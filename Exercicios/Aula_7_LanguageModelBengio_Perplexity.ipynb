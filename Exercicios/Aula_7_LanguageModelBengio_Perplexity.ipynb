{
  "nbformat": 4,
  "nbformat_minor": 0,
  "metadata": {
    "colab": {
      "name": "Aula 7 - Exercício - Leonardo Pacheco",
      "provenance": [],
      "collapsed_sections": [],
      "toc_visible": true,
      "include_colab_link": true
    },
    "kernelspec": {
      "name": "python3",
      "display_name": "Python 3"
    },
    "accelerator": "GPU",
    "widgets": {
      "application/vnd.jupyter.widget-state+json": {
        "e376e4d99c1046a4b1b6047c35c88081": {
          "model_module": "@jupyter-widgets/controls",
          "model_name": "HBoxModel",
          "model_module_version": "1.5.0",
          "state": {
            "_dom_classes": [],
            "_model_module": "@jupyter-widgets/controls",
            "_model_module_version": "1.5.0",
            "_model_name": "HBoxModel",
            "_view_count": null,
            "_view_module": "@jupyter-widgets/controls",
            "_view_module_version": "1.5.0",
            "_view_name": "HBoxView",
            "box_style": "",
            "children": [
              "IPY_MODEL_8bce653ee24b4a2da86d11e2fa1a07f1",
              "IPY_MODEL_bb10b016c2d54ca9b2af444a4563cb23",
              "IPY_MODEL_0b56e5471e154ac1a24e26f1cc52553f"
            ],
            "layout": "IPY_MODEL_d1a3488df70147228d58f0be2afc088d"
          }
        },
        "8bce653ee24b4a2da86d11e2fa1a07f1": {
          "model_module": "@jupyter-widgets/controls",
          "model_name": "HTMLModel",
          "model_module_version": "1.5.0",
          "state": {
            "_dom_classes": [],
            "_model_module": "@jupyter-widgets/controls",
            "_model_module_version": "1.5.0",
            "_model_name": "HTMLModel",
            "_view_count": null,
            "_view_module": "@jupyter-widgets/controls",
            "_view_module_version": "1.5.0",
            "_view_name": "HTMLView",
            "description": "",
            "description_tooltip": null,
            "layout": "IPY_MODEL_4515a3b997874ff0b1f6525a97de46c1",
            "placeholder": "​",
            "style": "IPY_MODEL_bf62221680c445a894d6bd8aff60dd11",
            "value": "Downloading: 100%"
          }
        },
        "bb10b016c2d54ca9b2af444a4563cb23": {
          "model_module": "@jupyter-widgets/controls",
          "model_name": "FloatProgressModel",
          "model_module_version": "1.5.0",
          "state": {
            "_dom_classes": [],
            "_model_module": "@jupyter-widgets/controls",
            "_model_module_version": "1.5.0",
            "_model_name": "FloatProgressModel",
            "_view_count": null,
            "_view_module": "@jupyter-widgets/controls",
            "_view_module_version": "1.5.0",
            "_view_name": "ProgressView",
            "bar_style": "success",
            "description": "",
            "description_tooltip": null,
            "layout": "IPY_MODEL_107bd125cc45480fbf6008e4e9f71f63",
            "max": 209528,
            "min": 0,
            "orientation": "horizontal",
            "style": "IPY_MODEL_6f42fbcdbf7a4eb68ca5ea797bf9aac3",
            "value": 209528
          }
        },
        "0b56e5471e154ac1a24e26f1cc52553f": {
          "model_module": "@jupyter-widgets/controls",
          "model_name": "HTMLModel",
          "model_module_version": "1.5.0",
          "state": {
            "_dom_classes": [],
            "_model_module": "@jupyter-widgets/controls",
            "_model_module_version": "1.5.0",
            "_model_name": "HTMLModel",
            "_view_count": null,
            "_view_module": "@jupyter-widgets/controls",
            "_view_module_version": "1.5.0",
            "_view_name": "HTMLView",
            "description": "",
            "description_tooltip": null,
            "layout": "IPY_MODEL_7af515996dc04c1395256d9e25380fd2",
            "placeholder": "​",
            "style": "IPY_MODEL_4799c22dfeab4df89b4110665e70c1b3",
            "value": " 205k/205k [00:00&lt;00:00, 823kB/s]"
          }
        },
        "d1a3488df70147228d58f0be2afc088d": {
          "model_module": "@jupyter-widgets/base",
          "model_name": "LayoutModel",
          "model_module_version": "1.2.0",
          "state": {
            "_model_module": "@jupyter-widgets/base",
            "_model_module_version": "1.2.0",
            "_model_name": "LayoutModel",
            "_view_count": null,
            "_view_module": "@jupyter-widgets/base",
            "_view_module_version": "1.2.0",
            "_view_name": "LayoutView",
            "align_content": null,
            "align_items": null,
            "align_self": null,
            "border": null,
            "bottom": null,
            "display": null,
            "flex": null,
            "flex_flow": null,
            "grid_area": null,
            "grid_auto_columns": null,
            "grid_auto_flow": null,
            "grid_auto_rows": null,
            "grid_column": null,
            "grid_gap": null,
            "grid_row": null,
            "grid_template_areas": null,
            "grid_template_columns": null,
            "grid_template_rows": null,
            "height": null,
            "justify_content": null,
            "justify_items": null,
            "left": null,
            "margin": null,
            "max_height": null,
            "max_width": null,
            "min_height": null,
            "min_width": null,
            "object_fit": null,
            "object_position": null,
            "order": null,
            "overflow": null,
            "overflow_x": null,
            "overflow_y": null,
            "padding": null,
            "right": null,
            "top": null,
            "visibility": null,
            "width": null
          }
        },
        "4515a3b997874ff0b1f6525a97de46c1": {
          "model_module": "@jupyter-widgets/base",
          "model_name": "LayoutModel",
          "model_module_version": "1.2.0",
          "state": {
            "_model_module": "@jupyter-widgets/base",
            "_model_module_version": "1.2.0",
            "_model_name": "LayoutModel",
            "_view_count": null,
            "_view_module": "@jupyter-widgets/base",
            "_view_module_version": "1.2.0",
            "_view_name": "LayoutView",
            "align_content": null,
            "align_items": null,
            "align_self": null,
            "border": null,
            "bottom": null,
            "display": null,
            "flex": null,
            "flex_flow": null,
            "grid_area": null,
            "grid_auto_columns": null,
            "grid_auto_flow": null,
            "grid_auto_rows": null,
            "grid_column": null,
            "grid_gap": null,
            "grid_row": null,
            "grid_template_areas": null,
            "grid_template_columns": null,
            "grid_template_rows": null,
            "height": null,
            "justify_content": null,
            "justify_items": null,
            "left": null,
            "margin": null,
            "max_height": null,
            "max_width": null,
            "min_height": null,
            "min_width": null,
            "object_fit": null,
            "object_position": null,
            "order": null,
            "overflow": null,
            "overflow_x": null,
            "overflow_y": null,
            "padding": null,
            "right": null,
            "top": null,
            "visibility": null,
            "width": null
          }
        },
        "bf62221680c445a894d6bd8aff60dd11": {
          "model_module": "@jupyter-widgets/controls",
          "model_name": "DescriptionStyleModel",
          "model_module_version": "1.5.0",
          "state": {
            "_model_module": "@jupyter-widgets/controls",
            "_model_module_version": "1.5.0",
            "_model_name": "DescriptionStyleModel",
            "_view_count": null,
            "_view_module": "@jupyter-widgets/base",
            "_view_module_version": "1.2.0",
            "_view_name": "StyleView",
            "description_width": ""
          }
        },
        "107bd125cc45480fbf6008e4e9f71f63": {
          "model_module": "@jupyter-widgets/base",
          "model_name": "LayoutModel",
          "model_module_version": "1.2.0",
          "state": {
            "_model_module": "@jupyter-widgets/base",
            "_model_module_version": "1.2.0",
            "_model_name": "LayoutModel",
            "_view_count": null,
            "_view_module": "@jupyter-widgets/base",
            "_view_module_version": "1.2.0",
            "_view_name": "LayoutView",
            "align_content": null,
            "align_items": null,
            "align_self": null,
            "border": null,
            "bottom": null,
            "display": null,
            "flex": null,
            "flex_flow": null,
            "grid_area": null,
            "grid_auto_columns": null,
            "grid_auto_flow": null,
            "grid_auto_rows": null,
            "grid_column": null,
            "grid_gap": null,
            "grid_row": null,
            "grid_template_areas": null,
            "grid_template_columns": null,
            "grid_template_rows": null,
            "height": null,
            "justify_content": null,
            "justify_items": null,
            "left": null,
            "margin": null,
            "max_height": null,
            "max_width": null,
            "min_height": null,
            "min_width": null,
            "object_fit": null,
            "object_position": null,
            "order": null,
            "overflow": null,
            "overflow_x": null,
            "overflow_y": null,
            "padding": null,
            "right": null,
            "top": null,
            "visibility": null,
            "width": null
          }
        },
        "6f42fbcdbf7a4eb68ca5ea797bf9aac3": {
          "model_module": "@jupyter-widgets/controls",
          "model_name": "ProgressStyleModel",
          "model_module_version": "1.5.0",
          "state": {
            "_model_module": "@jupyter-widgets/controls",
            "_model_module_version": "1.5.0",
            "_model_name": "ProgressStyleModel",
            "_view_count": null,
            "_view_module": "@jupyter-widgets/base",
            "_view_module_version": "1.2.0",
            "_view_name": "StyleView",
            "bar_color": null,
            "description_width": ""
          }
        },
        "7af515996dc04c1395256d9e25380fd2": {
          "model_module": "@jupyter-widgets/base",
          "model_name": "LayoutModel",
          "model_module_version": "1.2.0",
          "state": {
            "_model_module": "@jupyter-widgets/base",
            "_model_module_version": "1.2.0",
            "_model_name": "LayoutModel",
            "_view_count": null,
            "_view_module": "@jupyter-widgets/base",
            "_view_module_version": "1.2.0",
            "_view_name": "LayoutView",
            "align_content": null,
            "align_items": null,
            "align_self": null,
            "border": null,
            "bottom": null,
            "display": null,
            "flex": null,
            "flex_flow": null,
            "grid_area": null,
            "grid_auto_columns": null,
            "grid_auto_flow": null,
            "grid_auto_rows": null,
            "grid_column": null,
            "grid_gap": null,
            "grid_row": null,
            "grid_template_areas": null,
            "grid_template_columns": null,
            "grid_template_rows": null,
            "height": null,
            "justify_content": null,
            "justify_items": null,
            "left": null,
            "margin": null,
            "max_height": null,
            "max_width": null,
            "min_height": null,
            "min_width": null,
            "object_fit": null,
            "object_position": null,
            "order": null,
            "overflow": null,
            "overflow_x": null,
            "overflow_y": null,
            "padding": null,
            "right": null,
            "top": null,
            "visibility": null,
            "width": null
          }
        },
        "4799c22dfeab4df89b4110665e70c1b3": {
          "model_module": "@jupyter-widgets/controls",
          "model_name": "DescriptionStyleModel",
          "model_module_version": "1.5.0",
          "state": {
            "_model_module": "@jupyter-widgets/controls",
            "_model_module_version": "1.5.0",
            "_model_name": "DescriptionStyleModel",
            "_view_count": null,
            "_view_module": "@jupyter-widgets/base",
            "_view_module_version": "1.2.0",
            "_view_name": "StyleView",
            "description_width": ""
          }
        },
        "005aea0d7e6c48afacf607a5c694d583": {
          "model_module": "@jupyter-widgets/controls",
          "model_name": "HBoxModel",
          "model_module_version": "1.5.0",
          "state": {
            "_dom_classes": [],
            "_model_module": "@jupyter-widgets/controls",
            "_model_module_version": "1.5.0",
            "_model_name": "HBoxModel",
            "_view_count": null,
            "_view_module": "@jupyter-widgets/controls",
            "_view_module_version": "1.5.0",
            "_view_name": "HBoxView",
            "box_style": "",
            "children": [
              "IPY_MODEL_f9234fdf8c0746d1a6fb01d06f39b381",
              "IPY_MODEL_3ad94cbc98b84b31a895c4cfbcfca50f",
              "IPY_MODEL_ba8bda5fb84247c79b2b8cfbb2af8d62"
            ],
            "layout": "IPY_MODEL_bbe08b2d236e4fa6b4a350f00b6f3065"
          }
        },
        "f9234fdf8c0746d1a6fb01d06f39b381": {
          "model_module": "@jupyter-widgets/controls",
          "model_name": "HTMLModel",
          "model_module_version": "1.5.0",
          "state": {
            "_dom_classes": [],
            "_model_module": "@jupyter-widgets/controls",
            "_model_module_version": "1.5.0",
            "_model_name": "HTMLModel",
            "_view_count": null,
            "_view_module": "@jupyter-widgets/controls",
            "_view_module_version": "1.5.0",
            "_view_name": "HTMLView",
            "description": "",
            "description_tooltip": null,
            "layout": "IPY_MODEL_fb07cd32a2894e50857582307d3a6708",
            "placeholder": "​",
            "style": "IPY_MODEL_4fd8ac04dbed43ac9792d330a9cfdc93",
            "value": "Downloading: 100%"
          }
        },
        "3ad94cbc98b84b31a895c4cfbcfca50f": {
          "model_module": "@jupyter-widgets/controls",
          "model_name": "FloatProgressModel",
          "model_module_version": "1.5.0",
          "state": {
            "_dom_classes": [],
            "_model_module": "@jupyter-widgets/controls",
            "_model_module_version": "1.5.0",
            "_model_name": "FloatProgressModel",
            "_view_count": null,
            "_view_module": "@jupyter-widgets/controls",
            "_view_module_version": "1.5.0",
            "_view_name": "ProgressView",
            "bar_style": "success",
            "description": "",
            "description_tooltip": null,
            "layout": "IPY_MODEL_2fbfdaaebb3d4f35b6dc835e705b13f3",
            "max": 2,
            "min": 0,
            "orientation": "horizontal",
            "style": "IPY_MODEL_ec73cd66a8344de6a90fccac24896b3d",
            "value": 2
          }
        },
        "ba8bda5fb84247c79b2b8cfbb2af8d62": {
          "model_module": "@jupyter-widgets/controls",
          "model_name": "HTMLModel",
          "model_module_version": "1.5.0",
          "state": {
            "_dom_classes": [],
            "_model_module": "@jupyter-widgets/controls",
            "_model_module_version": "1.5.0",
            "_model_name": "HTMLModel",
            "_view_count": null,
            "_view_module": "@jupyter-widgets/controls",
            "_view_module_version": "1.5.0",
            "_view_name": "HTMLView",
            "description": "",
            "description_tooltip": null,
            "layout": "IPY_MODEL_f7a447166e014861b95a3533b7b6e5a3",
            "placeholder": "​",
            "style": "IPY_MODEL_c70208a832114769b1a20c8fa49e50f2",
            "value": " 2.00/2.00 [00:00&lt;00:00, 61.5B/s]"
          }
        },
        "bbe08b2d236e4fa6b4a350f00b6f3065": {
          "model_module": "@jupyter-widgets/base",
          "model_name": "LayoutModel",
          "model_module_version": "1.2.0",
          "state": {
            "_model_module": "@jupyter-widgets/base",
            "_model_module_version": "1.2.0",
            "_model_name": "LayoutModel",
            "_view_count": null,
            "_view_module": "@jupyter-widgets/base",
            "_view_module_version": "1.2.0",
            "_view_name": "LayoutView",
            "align_content": null,
            "align_items": null,
            "align_self": null,
            "border": null,
            "bottom": null,
            "display": null,
            "flex": null,
            "flex_flow": null,
            "grid_area": null,
            "grid_auto_columns": null,
            "grid_auto_flow": null,
            "grid_auto_rows": null,
            "grid_column": null,
            "grid_gap": null,
            "grid_row": null,
            "grid_template_areas": null,
            "grid_template_columns": null,
            "grid_template_rows": null,
            "height": null,
            "justify_content": null,
            "justify_items": null,
            "left": null,
            "margin": null,
            "max_height": null,
            "max_width": null,
            "min_height": null,
            "min_width": null,
            "object_fit": null,
            "object_position": null,
            "order": null,
            "overflow": null,
            "overflow_x": null,
            "overflow_y": null,
            "padding": null,
            "right": null,
            "top": null,
            "visibility": null,
            "width": null
          }
        },
        "fb07cd32a2894e50857582307d3a6708": {
          "model_module": "@jupyter-widgets/base",
          "model_name": "LayoutModel",
          "model_module_version": "1.2.0",
          "state": {
            "_model_module": "@jupyter-widgets/base",
            "_model_module_version": "1.2.0",
            "_model_name": "LayoutModel",
            "_view_count": null,
            "_view_module": "@jupyter-widgets/base",
            "_view_module_version": "1.2.0",
            "_view_name": "LayoutView",
            "align_content": null,
            "align_items": null,
            "align_self": null,
            "border": null,
            "bottom": null,
            "display": null,
            "flex": null,
            "flex_flow": null,
            "grid_area": null,
            "grid_auto_columns": null,
            "grid_auto_flow": null,
            "grid_auto_rows": null,
            "grid_column": null,
            "grid_gap": null,
            "grid_row": null,
            "grid_template_areas": null,
            "grid_template_columns": null,
            "grid_template_rows": null,
            "height": null,
            "justify_content": null,
            "justify_items": null,
            "left": null,
            "margin": null,
            "max_height": null,
            "max_width": null,
            "min_height": null,
            "min_width": null,
            "object_fit": null,
            "object_position": null,
            "order": null,
            "overflow": null,
            "overflow_x": null,
            "overflow_y": null,
            "padding": null,
            "right": null,
            "top": null,
            "visibility": null,
            "width": null
          }
        },
        "4fd8ac04dbed43ac9792d330a9cfdc93": {
          "model_module": "@jupyter-widgets/controls",
          "model_name": "DescriptionStyleModel",
          "model_module_version": "1.5.0",
          "state": {
            "_model_module": "@jupyter-widgets/controls",
            "_model_module_version": "1.5.0",
            "_model_name": "DescriptionStyleModel",
            "_view_count": null,
            "_view_module": "@jupyter-widgets/base",
            "_view_module_version": "1.2.0",
            "_view_name": "StyleView",
            "description_width": ""
          }
        },
        "2fbfdaaebb3d4f35b6dc835e705b13f3": {
          "model_module": "@jupyter-widgets/base",
          "model_name": "LayoutModel",
          "model_module_version": "1.2.0",
          "state": {
            "_model_module": "@jupyter-widgets/base",
            "_model_module_version": "1.2.0",
            "_model_name": "LayoutModel",
            "_view_count": null,
            "_view_module": "@jupyter-widgets/base",
            "_view_module_version": "1.2.0",
            "_view_name": "LayoutView",
            "align_content": null,
            "align_items": null,
            "align_self": null,
            "border": null,
            "bottom": null,
            "display": null,
            "flex": null,
            "flex_flow": null,
            "grid_area": null,
            "grid_auto_columns": null,
            "grid_auto_flow": null,
            "grid_auto_rows": null,
            "grid_column": null,
            "grid_gap": null,
            "grid_row": null,
            "grid_template_areas": null,
            "grid_template_columns": null,
            "grid_template_rows": null,
            "height": null,
            "justify_content": null,
            "justify_items": null,
            "left": null,
            "margin": null,
            "max_height": null,
            "max_width": null,
            "min_height": null,
            "min_width": null,
            "object_fit": null,
            "object_position": null,
            "order": null,
            "overflow": null,
            "overflow_x": null,
            "overflow_y": null,
            "padding": null,
            "right": null,
            "top": null,
            "visibility": null,
            "width": null
          }
        },
        "ec73cd66a8344de6a90fccac24896b3d": {
          "model_module": "@jupyter-widgets/controls",
          "model_name": "ProgressStyleModel",
          "model_module_version": "1.5.0",
          "state": {
            "_model_module": "@jupyter-widgets/controls",
            "_model_module_version": "1.5.0",
            "_model_name": "ProgressStyleModel",
            "_view_count": null,
            "_view_module": "@jupyter-widgets/base",
            "_view_module_version": "1.2.0",
            "_view_name": "StyleView",
            "bar_color": null,
            "description_width": ""
          }
        },
        "f7a447166e014861b95a3533b7b6e5a3": {
          "model_module": "@jupyter-widgets/base",
          "model_name": "LayoutModel",
          "model_module_version": "1.2.0",
          "state": {
            "_model_module": "@jupyter-widgets/base",
            "_model_module_version": "1.2.0",
            "_model_name": "LayoutModel",
            "_view_count": null,
            "_view_module": "@jupyter-widgets/base",
            "_view_module_version": "1.2.0",
            "_view_name": "LayoutView",
            "align_content": null,
            "align_items": null,
            "align_self": null,
            "border": null,
            "bottom": null,
            "display": null,
            "flex": null,
            "flex_flow": null,
            "grid_area": null,
            "grid_auto_columns": null,
            "grid_auto_flow": null,
            "grid_auto_rows": null,
            "grid_column": null,
            "grid_gap": null,
            "grid_row": null,
            "grid_template_areas": null,
            "grid_template_columns": null,
            "grid_template_rows": null,
            "height": null,
            "justify_content": null,
            "justify_items": null,
            "left": null,
            "margin": null,
            "max_height": null,
            "max_width": null,
            "min_height": null,
            "min_width": null,
            "object_fit": null,
            "object_position": null,
            "order": null,
            "overflow": null,
            "overflow_x": null,
            "overflow_y": null,
            "padding": null,
            "right": null,
            "top": null,
            "visibility": null,
            "width": null
          }
        },
        "c70208a832114769b1a20c8fa49e50f2": {
          "model_module": "@jupyter-widgets/controls",
          "model_name": "DescriptionStyleModel",
          "model_module_version": "1.5.0",
          "state": {
            "_model_module": "@jupyter-widgets/controls",
            "_model_module_version": "1.5.0",
            "_model_name": "DescriptionStyleModel",
            "_view_count": null,
            "_view_module": "@jupyter-widgets/base",
            "_view_module_version": "1.2.0",
            "_view_name": "StyleView",
            "description_width": ""
          }
        },
        "44692387ce21489cbbb1b114191bfb4b": {
          "model_module": "@jupyter-widgets/controls",
          "model_name": "HBoxModel",
          "model_module_version": "1.5.0",
          "state": {
            "_dom_classes": [],
            "_model_module": "@jupyter-widgets/controls",
            "_model_module_version": "1.5.0",
            "_model_name": "HBoxModel",
            "_view_count": null,
            "_view_module": "@jupyter-widgets/controls",
            "_view_module_version": "1.5.0",
            "_view_name": "HBoxView",
            "box_style": "",
            "children": [
              "IPY_MODEL_ab5f66d178b0496483280b46b27480c8",
              "IPY_MODEL_7bb1d6900da84b0ea697491a5a1ac04e",
              "IPY_MODEL_bdc436d0017e4fb494cb91943a77bfb0"
            ],
            "layout": "IPY_MODEL_7437860a13bd4afdab331404b847c241"
          }
        },
        "ab5f66d178b0496483280b46b27480c8": {
          "model_module": "@jupyter-widgets/controls",
          "model_name": "HTMLModel",
          "model_module_version": "1.5.0",
          "state": {
            "_dom_classes": [],
            "_model_module": "@jupyter-widgets/controls",
            "_model_module_version": "1.5.0",
            "_model_name": "HTMLModel",
            "_view_count": null,
            "_view_module": "@jupyter-widgets/controls",
            "_view_module_version": "1.5.0",
            "_view_name": "HTMLView",
            "description": "",
            "description_tooltip": null,
            "layout": "IPY_MODEL_bc1c25d22977428bbac595927b0ef70a",
            "placeholder": "​",
            "style": "IPY_MODEL_469cd5a2e75e4c76ad9b2987208ad31c",
            "value": "Downloading: 100%"
          }
        },
        "7bb1d6900da84b0ea697491a5a1ac04e": {
          "model_module": "@jupyter-widgets/controls",
          "model_name": "FloatProgressModel",
          "model_module_version": "1.5.0",
          "state": {
            "_dom_classes": [],
            "_model_module": "@jupyter-widgets/controls",
            "_model_module_version": "1.5.0",
            "_model_name": "FloatProgressModel",
            "_view_count": null,
            "_view_module": "@jupyter-widgets/controls",
            "_view_module_version": "1.5.0",
            "_view_name": "ProgressView",
            "bar_style": "success",
            "description": "",
            "description_tooltip": null,
            "layout": "IPY_MODEL_58532e604c5b46e9b03297372788c2bf",
            "max": 112,
            "min": 0,
            "orientation": "horizontal",
            "style": "IPY_MODEL_2a32348db2e341cb8ed2abd13732abac",
            "value": 112
          }
        },
        "bdc436d0017e4fb494cb91943a77bfb0": {
          "model_module": "@jupyter-widgets/controls",
          "model_name": "HTMLModel",
          "model_module_version": "1.5.0",
          "state": {
            "_dom_classes": [],
            "_model_module": "@jupyter-widgets/controls",
            "_model_module_version": "1.5.0",
            "_model_name": "HTMLModel",
            "_view_count": null,
            "_view_module": "@jupyter-widgets/controls",
            "_view_module_version": "1.5.0",
            "_view_name": "HTMLView",
            "description": "",
            "description_tooltip": null,
            "layout": "IPY_MODEL_990740f030ca4fa596f9c09d08bf836d",
            "placeholder": "​",
            "style": "IPY_MODEL_1ebc75bd941740198ddb9e8067816ff9",
            "value": " 112/112 [00:00&lt;00:00, 3.21kB/s]"
          }
        },
        "7437860a13bd4afdab331404b847c241": {
          "model_module": "@jupyter-widgets/base",
          "model_name": "LayoutModel",
          "model_module_version": "1.2.0",
          "state": {
            "_model_module": "@jupyter-widgets/base",
            "_model_module_version": "1.2.0",
            "_model_name": "LayoutModel",
            "_view_count": null,
            "_view_module": "@jupyter-widgets/base",
            "_view_module_version": "1.2.0",
            "_view_name": "LayoutView",
            "align_content": null,
            "align_items": null,
            "align_self": null,
            "border": null,
            "bottom": null,
            "display": null,
            "flex": null,
            "flex_flow": null,
            "grid_area": null,
            "grid_auto_columns": null,
            "grid_auto_flow": null,
            "grid_auto_rows": null,
            "grid_column": null,
            "grid_gap": null,
            "grid_row": null,
            "grid_template_areas": null,
            "grid_template_columns": null,
            "grid_template_rows": null,
            "height": null,
            "justify_content": null,
            "justify_items": null,
            "left": null,
            "margin": null,
            "max_height": null,
            "max_width": null,
            "min_height": null,
            "min_width": null,
            "object_fit": null,
            "object_position": null,
            "order": null,
            "overflow": null,
            "overflow_x": null,
            "overflow_y": null,
            "padding": null,
            "right": null,
            "top": null,
            "visibility": null,
            "width": null
          }
        },
        "bc1c25d22977428bbac595927b0ef70a": {
          "model_module": "@jupyter-widgets/base",
          "model_name": "LayoutModel",
          "model_module_version": "1.2.0",
          "state": {
            "_model_module": "@jupyter-widgets/base",
            "_model_module_version": "1.2.0",
            "_model_name": "LayoutModel",
            "_view_count": null,
            "_view_module": "@jupyter-widgets/base",
            "_view_module_version": "1.2.0",
            "_view_name": "LayoutView",
            "align_content": null,
            "align_items": null,
            "align_self": null,
            "border": null,
            "bottom": null,
            "display": null,
            "flex": null,
            "flex_flow": null,
            "grid_area": null,
            "grid_auto_columns": null,
            "grid_auto_flow": null,
            "grid_auto_rows": null,
            "grid_column": null,
            "grid_gap": null,
            "grid_row": null,
            "grid_template_areas": null,
            "grid_template_columns": null,
            "grid_template_rows": null,
            "height": null,
            "justify_content": null,
            "justify_items": null,
            "left": null,
            "margin": null,
            "max_height": null,
            "max_width": null,
            "min_height": null,
            "min_width": null,
            "object_fit": null,
            "object_position": null,
            "order": null,
            "overflow": null,
            "overflow_x": null,
            "overflow_y": null,
            "padding": null,
            "right": null,
            "top": null,
            "visibility": null,
            "width": null
          }
        },
        "469cd5a2e75e4c76ad9b2987208ad31c": {
          "model_module": "@jupyter-widgets/controls",
          "model_name": "DescriptionStyleModel",
          "model_module_version": "1.5.0",
          "state": {
            "_model_module": "@jupyter-widgets/controls",
            "_model_module_version": "1.5.0",
            "_model_name": "DescriptionStyleModel",
            "_view_count": null,
            "_view_module": "@jupyter-widgets/base",
            "_view_module_version": "1.2.0",
            "_view_name": "StyleView",
            "description_width": ""
          }
        },
        "58532e604c5b46e9b03297372788c2bf": {
          "model_module": "@jupyter-widgets/base",
          "model_name": "LayoutModel",
          "model_module_version": "1.2.0",
          "state": {
            "_model_module": "@jupyter-widgets/base",
            "_model_module_version": "1.2.0",
            "_model_name": "LayoutModel",
            "_view_count": null,
            "_view_module": "@jupyter-widgets/base",
            "_view_module_version": "1.2.0",
            "_view_name": "LayoutView",
            "align_content": null,
            "align_items": null,
            "align_self": null,
            "border": null,
            "bottom": null,
            "display": null,
            "flex": null,
            "flex_flow": null,
            "grid_area": null,
            "grid_auto_columns": null,
            "grid_auto_flow": null,
            "grid_auto_rows": null,
            "grid_column": null,
            "grid_gap": null,
            "grid_row": null,
            "grid_template_areas": null,
            "grid_template_columns": null,
            "grid_template_rows": null,
            "height": null,
            "justify_content": null,
            "justify_items": null,
            "left": null,
            "margin": null,
            "max_height": null,
            "max_width": null,
            "min_height": null,
            "min_width": null,
            "object_fit": null,
            "object_position": null,
            "order": null,
            "overflow": null,
            "overflow_x": null,
            "overflow_y": null,
            "padding": null,
            "right": null,
            "top": null,
            "visibility": null,
            "width": null
          }
        },
        "2a32348db2e341cb8ed2abd13732abac": {
          "model_module": "@jupyter-widgets/controls",
          "model_name": "ProgressStyleModel",
          "model_module_version": "1.5.0",
          "state": {
            "_model_module": "@jupyter-widgets/controls",
            "_model_module_version": "1.5.0",
            "_model_name": "ProgressStyleModel",
            "_view_count": null,
            "_view_module": "@jupyter-widgets/base",
            "_view_module_version": "1.2.0",
            "_view_name": "StyleView",
            "bar_color": null,
            "description_width": ""
          }
        },
        "990740f030ca4fa596f9c09d08bf836d": {
          "model_module": "@jupyter-widgets/base",
          "model_name": "LayoutModel",
          "model_module_version": "1.2.0",
          "state": {
            "_model_module": "@jupyter-widgets/base",
            "_model_module_version": "1.2.0",
            "_model_name": "LayoutModel",
            "_view_count": null,
            "_view_module": "@jupyter-widgets/base",
            "_view_module_version": "1.2.0",
            "_view_name": "LayoutView",
            "align_content": null,
            "align_items": null,
            "align_self": null,
            "border": null,
            "bottom": null,
            "display": null,
            "flex": null,
            "flex_flow": null,
            "grid_area": null,
            "grid_auto_columns": null,
            "grid_auto_flow": null,
            "grid_auto_rows": null,
            "grid_column": null,
            "grid_gap": null,
            "grid_row": null,
            "grid_template_areas": null,
            "grid_template_columns": null,
            "grid_template_rows": null,
            "height": null,
            "justify_content": null,
            "justify_items": null,
            "left": null,
            "margin": null,
            "max_height": null,
            "max_width": null,
            "min_height": null,
            "min_width": null,
            "object_fit": null,
            "object_position": null,
            "order": null,
            "overflow": null,
            "overflow_x": null,
            "overflow_y": null,
            "padding": null,
            "right": null,
            "top": null,
            "visibility": null,
            "width": null
          }
        },
        "1ebc75bd941740198ddb9e8067816ff9": {
          "model_module": "@jupyter-widgets/controls",
          "model_name": "DescriptionStyleModel",
          "model_module_version": "1.5.0",
          "state": {
            "_model_module": "@jupyter-widgets/controls",
            "_model_module_version": "1.5.0",
            "_model_name": "DescriptionStyleModel",
            "_view_count": null,
            "_view_module": "@jupyter-widgets/base",
            "_view_module_version": "1.2.0",
            "_view_name": "StyleView",
            "description_width": ""
          }
        },
        "b1fb7ad89bfd4a8f90613e8553f3541f": {
          "model_module": "@jupyter-widgets/controls",
          "model_name": "HBoxModel",
          "model_module_version": "1.5.0",
          "state": {
            "_dom_classes": [],
            "_model_module": "@jupyter-widgets/controls",
            "_model_module_version": "1.5.0",
            "_model_name": "HBoxModel",
            "_view_count": null,
            "_view_module": "@jupyter-widgets/controls",
            "_view_module_version": "1.5.0",
            "_view_name": "HBoxView",
            "box_style": "",
            "children": [
              "IPY_MODEL_c3c09603d34b4ca69e61d1603a70d12b",
              "IPY_MODEL_3e3bc27a207b42b3af350a62007e2572",
              "IPY_MODEL_fc7a2f5429f547d594640a6e308efd05"
            ],
            "layout": "IPY_MODEL_60dcfb9e9dd84fbc952ce0425d021475"
          }
        },
        "c3c09603d34b4ca69e61d1603a70d12b": {
          "model_module": "@jupyter-widgets/controls",
          "model_name": "HTMLModel",
          "model_module_version": "1.5.0",
          "state": {
            "_dom_classes": [],
            "_model_module": "@jupyter-widgets/controls",
            "_model_module_version": "1.5.0",
            "_model_name": "HTMLModel",
            "_view_count": null,
            "_view_module": "@jupyter-widgets/controls",
            "_view_module_version": "1.5.0",
            "_view_name": "HTMLView",
            "description": "",
            "description_tooltip": null,
            "layout": "IPY_MODEL_e55b0bea59be4a4eb6d37b3a5a7b171b",
            "placeholder": "​",
            "style": "IPY_MODEL_a4c66977cd9b46a4847b5be4473e898e",
            "value": "Downloading: 100%"
          }
        },
        "3e3bc27a207b42b3af350a62007e2572": {
          "model_module": "@jupyter-widgets/controls",
          "model_name": "FloatProgressModel",
          "model_module_version": "1.5.0",
          "state": {
            "_dom_classes": [],
            "_model_module": "@jupyter-widgets/controls",
            "_model_module_version": "1.5.0",
            "_model_name": "FloatProgressModel",
            "_view_count": null,
            "_view_module": "@jupyter-widgets/controls",
            "_view_module_version": "1.5.0",
            "_view_name": "ProgressView",
            "bar_style": "success",
            "description": "",
            "description_tooltip": null,
            "layout": "IPY_MODEL_1996cf4c6c7c4293a513a8e2a549936f",
            "max": 43,
            "min": 0,
            "orientation": "horizontal",
            "style": "IPY_MODEL_e9c2a8a411a6410a8180435cd6cfc274",
            "value": 43
          }
        },
        "fc7a2f5429f547d594640a6e308efd05": {
          "model_module": "@jupyter-widgets/controls",
          "model_name": "HTMLModel",
          "model_module_version": "1.5.0",
          "state": {
            "_dom_classes": [],
            "_model_module": "@jupyter-widgets/controls",
            "_model_module_version": "1.5.0",
            "_model_name": "HTMLModel",
            "_view_count": null,
            "_view_module": "@jupyter-widgets/controls",
            "_view_module_version": "1.5.0",
            "_view_name": "HTMLView",
            "description": "",
            "description_tooltip": null,
            "layout": "IPY_MODEL_c612bd55b9cb4bbb969208e1d5d2eec1",
            "placeholder": "​",
            "style": "IPY_MODEL_540c003aadc44ac99a7291cb4c8fe94d",
            "value": " 43.0/43.0 [00:00&lt;00:00, 1.31kB/s]"
          }
        },
        "60dcfb9e9dd84fbc952ce0425d021475": {
          "model_module": "@jupyter-widgets/base",
          "model_name": "LayoutModel",
          "model_module_version": "1.2.0",
          "state": {
            "_model_module": "@jupyter-widgets/base",
            "_model_module_version": "1.2.0",
            "_model_name": "LayoutModel",
            "_view_count": null,
            "_view_module": "@jupyter-widgets/base",
            "_view_module_version": "1.2.0",
            "_view_name": "LayoutView",
            "align_content": null,
            "align_items": null,
            "align_self": null,
            "border": null,
            "bottom": null,
            "display": null,
            "flex": null,
            "flex_flow": null,
            "grid_area": null,
            "grid_auto_columns": null,
            "grid_auto_flow": null,
            "grid_auto_rows": null,
            "grid_column": null,
            "grid_gap": null,
            "grid_row": null,
            "grid_template_areas": null,
            "grid_template_columns": null,
            "grid_template_rows": null,
            "height": null,
            "justify_content": null,
            "justify_items": null,
            "left": null,
            "margin": null,
            "max_height": null,
            "max_width": null,
            "min_height": null,
            "min_width": null,
            "object_fit": null,
            "object_position": null,
            "order": null,
            "overflow": null,
            "overflow_x": null,
            "overflow_y": null,
            "padding": null,
            "right": null,
            "top": null,
            "visibility": null,
            "width": null
          }
        },
        "e55b0bea59be4a4eb6d37b3a5a7b171b": {
          "model_module": "@jupyter-widgets/base",
          "model_name": "LayoutModel",
          "model_module_version": "1.2.0",
          "state": {
            "_model_module": "@jupyter-widgets/base",
            "_model_module_version": "1.2.0",
            "_model_name": "LayoutModel",
            "_view_count": null,
            "_view_module": "@jupyter-widgets/base",
            "_view_module_version": "1.2.0",
            "_view_name": "LayoutView",
            "align_content": null,
            "align_items": null,
            "align_self": null,
            "border": null,
            "bottom": null,
            "display": null,
            "flex": null,
            "flex_flow": null,
            "grid_area": null,
            "grid_auto_columns": null,
            "grid_auto_flow": null,
            "grid_auto_rows": null,
            "grid_column": null,
            "grid_gap": null,
            "grid_row": null,
            "grid_template_areas": null,
            "grid_template_columns": null,
            "grid_template_rows": null,
            "height": null,
            "justify_content": null,
            "justify_items": null,
            "left": null,
            "margin": null,
            "max_height": null,
            "max_width": null,
            "min_height": null,
            "min_width": null,
            "object_fit": null,
            "object_position": null,
            "order": null,
            "overflow": null,
            "overflow_x": null,
            "overflow_y": null,
            "padding": null,
            "right": null,
            "top": null,
            "visibility": null,
            "width": null
          }
        },
        "a4c66977cd9b46a4847b5be4473e898e": {
          "model_module": "@jupyter-widgets/controls",
          "model_name": "DescriptionStyleModel",
          "model_module_version": "1.5.0",
          "state": {
            "_model_module": "@jupyter-widgets/controls",
            "_model_module_version": "1.5.0",
            "_model_name": "DescriptionStyleModel",
            "_view_count": null,
            "_view_module": "@jupyter-widgets/base",
            "_view_module_version": "1.2.0",
            "_view_name": "StyleView",
            "description_width": ""
          }
        },
        "1996cf4c6c7c4293a513a8e2a549936f": {
          "model_module": "@jupyter-widgets/base",
          "model_name": "LayoutModel",
          "model_module_version": "1.2.0",
          "state": {
            "_model_module": "@jupyter-widgets/base",
            "_model_module_version": "1.2.0",
            "_model_name": "LayoutModel",
            "_view_count": null,
            "_view_module": "@jupyter-widgets/base",
            "_view_module_version": "1.2.0",
            "_view_name": "LayoutView",
            "align_content": null,
            "align_items": null,
            "align_self": null,
            "border": null,
            "bottom": null,
            "display": null,
            "flex": null,
            "flex_flow": null,
            "grid_area": null,
            "grid_auto_columns": null,
            "grid_auto_flow": null,
            "grid_auto_rows": null,
            "grid_column": null,
            "grid_gap": null,
            "grid_row": null,
            "grid_template_areas": null,
            "grid_template_columns": null,
            "grid_template_rows": null,
            "height": null,
            "justify_content": null,
            "justify_items": null,
            "left": null,
            "margin": null,
            "max_height": null,
            "max_width": null,
            "min_height": null,
            "min_width": null,
            "object_fit": null,
            "object_position": null,
            "order": null,
            "overflow": null,
            "overflow_x": null,
            "overflow_y": null,
            "padding": null,
            "right": null,
            "top": null,
            "visibility": null,
            "width": null
          }
        },
        "e9c2a8a411a6410a8180435cd6cfc274": {
          "model_module": "@jupyter-widgets/controls",
          "model_name": "ProgressStyleModel",
          "model_module_version": "1.5.0",
          "state": {
            "_model_module": "@jupyter-widgets/controls",
            "_model_module_version": "1.5.0",
            "_model_name": "ProgressStyleModel",
            "_view_count": null,
            "_view_module": "@jupyter-widgets/base",
            "_view_module_version": "1.2.0",
            "_view_name": "StyleView",
            "bar_color": null,
            "description_width": ""
          }
        },
        "c612bd55b9cb4bbb969208e1d5d2eec1": {
          "model_module": "@jupyter-widgets/base",
          "model_name": "LayoutModel",
          "model_module_version": "1.2.0",
          "state": {
            "_model_module": "@jupyter-widgets/base",
            "_model_module_version": "1.2.0",
            "_model_name": "LayoutModel",
            "_view_count": null,
            "_view_module": "@jupyter-widgets/base",
            "_view_module_version": "1.2.0",
            "_view_name": "LayoutView",
            "align_content": null,
            "align_items": null,
            "align_self": null,
            "border": null,
            "bottom": null,
            "display": null,
            "flex": null,
            "flex_flow": null,
            "grid_area": null,
            "grid_auto_columns": null,
            "grid_auto_flow": null,
            "grid_auto_rows": null,
            "grid_column": null,
            "grid_gap": null,
            "grid_row": null,
            "grid_template_areas": null,
            "grid_template_columns": null,
            "grid_template_rows": null,
            "height": null,
            "justify_content": null,
            "justify_items": null,
            "left": null,
            "margin": null,
            "max_height": null,
            "max_width": null,
            "min_height": null,
            "min_width": null,
            "object_fit": null,
            "object_position": null,
            "order": null,
            "overflow": null,
            "overflow_x": null,
            "overflow_y": null,
            "padding": null,
            "right": null,
            "top": null,
            "visibility": null,
            "width": null
          }
        },
        "540c003aadc44ac99a7291cb4c8fe94d": {
          "model_module": "@jupyter-widgets/controls",
          "model_name": "DescriptionStyleModel",
          "model_module_version": "1.5.0",
          "state": {
            "_model_module": "@jupyter-widgets/controls",
            "_model_module_version": "1.5.0",
            "_model_name": "DescriptionStyleModel",
            "_view_count": null,
            "_view_module": "@jupyter-widgets/base",
            "_view_module_version": "1.2.0",
            "_view_name": "StyleView",
            "description_width": ""
          }
        },
        "b1eed106cd514551a5a2f66aca362964": {
          "model_module": "@jupyter-widgets/controls",
          "model_name": "HBoxModel",
          "model_module_version": "1.5.0",
          "state": {
            "_dom_classes": [],
            "_model_module": "@jupyter-widgets/controls",
            "_model_module_version": "1.5.0",
            "_model_name": "HBoxModel",
            "_view_count": null,
            "_view_module": "@jupyter-widgets/controls",
            "_view_module_version": "1.5.0",
            "_view_name": "HBoxView",
            "box_style": "",
            "children": [
              "IPY_MODEL_ffe13df320f944be85e0227ce3f59332",
              "IPY_MODEL_e4a6dc2a854549428feee4c5d7e8adda",
              "IPY_MODEL_4350221fff00494abd639a3f8dd43b43"
            ],
            "layout": "IPY_MODEL_d67a9bdb354149258df6b97d152d7f12"
          }
        },
        "ffe13df320f944be85e0227ce3f59332": {
          "model_module": "@jupyter-widgets/controls",
          "model_name": "HTMLModel",
          "model_module_version": "1.5.0",
          "state": {
            "_dom_classes": [],
            "_model_module": "@jupyter-widgets/controls",
            "_model_module_version": "1.5.0",
            "_model_name": "HTMLModel",
            "_view_count": null,
            "_view_module": "@jupyter-widgets/controls",
            "_view_module_version": "1.5.0",
            "_view_name": "HTMLView",
            "description": "",
            "description_tooltip": null,
            "layout": "IPY_MODEL_7bff0ef72dd7442faceb4f1be12b9f2f",
            "placeholder": "​",
            "style": "IPY_MODEL_c6f2d65ab8984c58a54acd1c4b3cc98b",
            "value": "Downloading: 100%"
          }
        },
        "e4a6dc2a854549428feee4c5d7e8adda": {
          "model_module": "@jupyter-widgets/controls",
          "model_name": "FloatProgressModel",
          "model_module_version": "1.5.0",
          "state": {
            "_dom_classes": [],
            "_model_module": "@jupyter-widgets/controls",
            "_model_module_version": "1.5.0",
            "_model_name": "FloatProgressModel",
            "_view_count": null,
            "_view_module": "@jupyter-widgets/controls",
            "_view_module_version": "1.5.0",
            "_view_name": "ProgressView",
            "bar_style": "success",
            "description": "",
            "description_tooltip": null,
            "layout": "IPY_MODEL_0cb1a16be73941cb8025870a3a608097",
            "max": 647,
            "min": 0,
            "orientation": "horizontal",
            "style": "IPY_MODEL_8ae2f2e59fc94d1f972bb37e7181aeca",
            "value": 647
          }
        },
        "4350221fff00494abd639a3f8dd43b43": {
          "model_module": "@jupyter-widgets/controls",
          "model_name": "HTMLModel",
          "model_module_version": "1.5.0",
          "state": {
            "_dom_classes": [],
            "_model_module": "@jupyter-widgets/controls",
            "_model_module_version": "1.5.0",
            "_model_name": "HTMLModel",
            "_view_count": null,
            "_view_module": "@jupyter-widgets/controls",
            "_view_module_version": "1.5.0",
            "_view_name": "HTMLView",
            "description": "",
            "description_tooltip": null,
            "layout": "IPY_MODEL_96a7799fec5e47529128a61a2cc04af9",
            "placeholder": "​",
            "style": "IPY_MODEL_6928425a1b1f4ce5af3d77f683799395",
            "value": " 647/647 [00:00&lt;00:00, 17.4kB/s]"
          }
        },
        "d67a9bdb354149258df6b97d152d7f12": {
          "model_module": "@jupyter-widgets/base",
          "model_name": "LayoutModel",
          "model_module_version": "1.2.0",
          "state": {
            "_model_module": "@jupyter-widgets/base",
            "_model_module_version": "1.2.0",
            "_model_name": "LayoutModel",
            "_view_count": null,
            "_view_module": "@jupyter-widgets/base",
            "_view_module_version": "1.2.0",
            "_view_name": "LayoutView",
            "align_content": null,
            "align_items": null,
            "align_self": null,
            "border": null,
            "bottom": null,
            "display": null,
            "flex": null,
            "flex_flow": null,
            "grid_area": null,
            "grid_auto_columns": null,
            "grid_auto_flow": null,
            "grid_auto_rows": null,
            "grid_column": null,
            "grid_gap": null,
            "grid_row": null,
            "grid_template_areas": null,
            "grid_template_columns": null,
            "grid_template_rows": null,
            "height": null,
            "justify_content": null,
            "justify_items": null,
            "left": null,
            "margin": null,
            "max_height": null,
            "max_width": null,
            "min_height": null,
            "min_width": null,
            "object_fit": null,
            "object_position": null,
            "order": null,
            "overflow": null,
            "overflow_x": null,
            "overflow_y": null,
            "padding": null,
            "right": null,
            "top": null,
            "visibility": null,
            "width": null
          }
        },
        "7bff0ef72dd7442faceb4f1be12b9f2f": {
          "model_module": "@jupyter-widgets/base",
          "model_name": "LayoutModel",
          "model_module_version": "1.2.0",
          "state": {
            "_model_module": "@jupyter-widgets/base",
            "_model_module_version": "1.2.0",
            "_model_name": "LayoutModel",
            "_view_count": null,
            "_view_module": "@jupyter-widgets/base",
            "_view_module_version": "1.2.0",
            "_view_name": "LayoutView",
            "align_content": null,
            "align_items": null,
            "align_self": null,
            "border": null,
            "bottom": null,
            "display": null,
            "flex": null,
            "flex_flow": null,
            "grid_area": null,
            "grid_auto_columns": null,
            "grid_auto_flow": null,
            "grid_auto_rows": null,
            "grid_column": null,
            "grid_gap": null,
            "grid_row": null,
            "grid_template_areas": null,
            "grid_template_columns": null,
            "grid_template_rows": null,
            "height": null,
            "justify_content": null,
            "justify_items": null,
            "left": null,
            "margin": null,
            "max_height": null,
            "max_width": null,
            "min_height": null,
            "min_width": null,
            "object_fit": null,
            "object_position": null,
            "order": null,
            "overflow": null,
            "overflow_x": null,
            "overflow_y": null,
            "padding": null,
            "right": null,
            "top": null,
            "visibility": null,
            "width": null
          }
        },
        "c6f2d65ab8984c58a54acd1c4b3cc98b": {
          "model_module": "@jupyter-widgets/controls",
          "model_name": "DescriptionStyleModel",
          "model_module_version": "1.5.0",
          "state": {
            "_model_module": "@jupyter-widgets/controls",
            "_model_module_version": "1.5.0",
            "_model_name": "DescriptionStyleModel",
            "_view_count": null,
            "_view_module": "@jupyter-widgets/base",
            "_view_module_version": "1.2.0",
            "_view_name": "StyleView",
            "description_width": ""
          }
        },
        "0cb1a16be73941cb8025870a3a608097": {
          "model_module": "@jupyter-widgets/base",
          "model_name": "LayoutModel",
          "model_module_version": "1.2.0",
          "state": {
            "_model_module": "@jupyter-widgets/base",
            "_model_module_version": "1.2.0",
            "_model_name": "LayoutModel",
            "_view_count": null,
            "_view_module": "@jupyter-widgets/base",
            "_view_module_version": "1.2.0",
            "_view_name": "LayoutView",
            "align_content": null,
            "align_items": null,
            "align_self": null,
            "border": null,
            "bottom": null,
            "display": null,
            "flex": null,
            "flex_flow": null,
            "grid_area": null,
            "grid_auto_columns": null,
            "grid_auto_flow": null,
            "grid_auto_rows": null,
            "grid_column": null,
            "grid_gap": null,
            "grid_row": null,
            "grid_template_areas": null,
            "grid_template_columns": null,
            "grid_template_rows": null,
            "height": null,
            "justify_content": null,
            "justify_items": null,
            "left": null,
            "margin": null,
            "max_height": null,
            "max_width": null,
            "min_height": null,
            "min_width": null,
            "object_fit": null,
            "object_position": null,
            "order": null,
            "overflow": null,
            "overflow_x": null,
            "overflow_y": null,
            "padding": null,
            "right": null,
            "top": null,
            "visibility": null,
            "width": null
          }
        },
        "8ae2f2e59fc94d1f972bb37e7181aeca": {
          "model_module": "@jupyter-widgets/controls",
          "model_name": "ProgressStyleModel",
          "model_module_version": "1.5.0",
          "state": {
            "_model_module": "@jupyter-widgets/controls",
            "_model_module_version": "1.5.0",
            "_model_name": "ProgressStyleModel",
            "_view_count": null,
            "_view_module": "@jupyter-widgets/base",
            "_view_module_version": "1.2.0",
            "_view_name": "StyleView",
            "bar_color": null,
            "description_width": ""
          }
        },
        "96a7799fec5e47529128a61a2cc04af9": {
          "model_module": "@jupyter-widgets/base",
          "model_name": "LayoutModel",
          "model_module_version": "1.2.0",
          "state": {
            "_model_module": "@jupyter-widgets/base",
            "_model_module_version": "1.2.0",
            "_model_name": "LayoutModel",
            "_view_count": null,
            "_view_module": "@jupyter-widgets/base",
            "_view_module_version": "1.2.0",
            "_view_name": "LayoutView",
            "align_content": null,
            "align_items": null,
            "align_self": null,
            "border": null,
            "bottom": null,
            "display": null,
            "flex": null,
            "flex_flow": null,
            "grid_area": null,
            "grid_auto_columns": null,
            "grid_auto_flow": null,
            "grid_auto_rows": null,
            "grid_column": null,
            "grid_gap": null,
            "grid_row": null,
            "grid_template_areas": null,
            "grid_template_columns": null,
            "grid_template_rows": null,
            "height": null,
            "justify_content": null,
            "justify_items": null,
            "left": null,
            "margin": null,
            "max_height": null,
            "max_width": null,
            "min_height": null,
            "min_width": null,
            "object_fit": null,
            "object_position": null,
            "order": null,
            "overflow": null,
            "overflow_x": null,
            "overflow_y": null,
            "padding": null,
            "right": null,
            "top": null,
            "visibility": null,
            "width": null
          }
        },
        "6928425a1b1f4ce5af3d77f683799395": {
          "model_module": "@jupyter-widgets/controls",
          "model_name": "DescriptionStyleModel",
          "model_module_version": "1.5.0",
          "state": {
            "_model_module": "@jupyter-widgets/controls",
            "_model_module_version": "1.5.0",
            "_model_name": "DescriptionStyleModel",
            "_view_count": null,
            "_view_module": "@jupyter-widgets/base",
            "_view_module_version": "1.2.0",
            "_view_name": "StyleView",
            "description_width": ""
          }
        }
      }
    }
  },
  "cells": [
    {
      "cell_type": "markdown",
      "metadata": {
        "id": "view-in-github",
        "colab_type": "text"
      },
      "source": [
        "<a href=\"https://colab.research.google.com/github/leonardo3108/ia025a/blob/main/Exercicios/Aula_7_LanguageModelBengio_Perplexity.ipynb\" target=\"_parent\"><img src=\"https://colab.research.google.com/assets/colab-badge.svg\" alt=\"Open In Colab\"/></a>"
      ]
    },
    {
      "cell_type": "code",
      "source": [
        "nome = 'Leonardo Augusto da Silva Pacheco'\n",
        "print(f'Meu nome é {nome}.')"
      ],
      "metadata": {
        "colab": {
          "base_uri": "https://localhost:8080/"
        },
        "id": "jOdQB41_4ZxG",
        "outputId": "9763e9dd-aca8-43a4-d3f7-4707d65ec7de"
      },
      "execution_count": 1,
      "outputs": [
        {
          "output_type": "stream",
          "name": "stdout",
          "text": [
            "Meu nome é Leonardo Augusto da Silva Pacheco.\n"
          ]
        }
      ]
    },
    {
      "cell_type": "markdown",
      "metadata": {
        "id": "2IbuChoAPMEn"
      },
      "source": [
        "#  Exercício: Modelo de Linguagem (Bengio 2003) - MLP + Embeddings"
      ]
    },
    {
      "cell_type": "markdown",
      "metadata": {
        "id": "p_DBb0-Klwf2"
      },
      "source": [
        "Neste exercício iremos treinar uma rede neural simples para prever a proxima palavra de um texto, data as palavras anteriores como entrada. Esta tarefa é chamada de \"Modelagem da Língua\".\n",
        "\n",
        "Este dataset já possui um tamanho razoável e é bem provável que você vai precisar rodar seus experimentos com GPU.\n",
        "\n",
        "Alguns conselhos úteis:\n",
        "- **ATENÇÃO:** o dataset é bem grande. Não dê comando de imprimí-lo.\n",
        "- Durante a depuração, faça seu dataset ficar bem pequeno, para que a depuração seja mais rápida e não precise de GPU. Somente ligue a GPU quando o seu laço de treinamento já está funcionando\n",
        "- Não deixe para fazer esse exercício na véspera. Ele é trabalhoso."
      ]
    },
    {
      "cell_type": "code",
      "source": [
        "# iremos utilizar a biblioteca dos transformers para ter acesso ao tokenizador do BERT.\n",
        "!pip install transformers"
      ],
      "metadata": {
        "id": "3twP0YJC4jmJ",
        "colab": {
          "base_uri": "https://localhost:8080/"
        },
        "outputId": "9cf1d668-8fbc-44c2-e383-a7b22a00da11"
      },
      "execution_count": 2,
      "outputs": [
        {
          "output_type": "stream",
          "name": "stdout",
          "text": [
            "Collecting transformers\n",
            "  Downloading transformers-4.19.2-py3-none-any.whl (4.2 MB)\n",
            "\u001b[K     |████████████████████████████████| 4.2 MB 9.8 MB/s \n",
            "\u001b[?25hCollecting pyyaml>=5.1\n",
            "  Downloading PyYAML-6.0-cp37-cp37m-manylinux_2_5_x86_64.manylinux1_x86_64.manylinux_2_12_x86_64.manylinux2010_x86_64.whl (596 kB)\n",
            "\u001b[K     |████████████████████████████████| 596 kB 63.0 MB/s \n",
            "\u001b[?25hRequirement already satisfied: numpy>=1.17 in /usr/local/lib/python3.7/dist-packages (from transformers) (1.21.6)\n",
            "Collecting huggingface-hub<1.0,>=0.1.0\n",
            "  Downloading huggingface_hub-0.6.0-py3-none-any.whl (84 kB)\n",
            "\u001b[K     |████████████████████████████████| 84 kB 3.8 MB/s \n",
            "\u001b[?25hRequirement already satisfied: importlib-metadata in /usr/local/lib/python3.7/dist-packages (from transformers) (4.11.3)\n",
            "Collecting tokenizers!=0.11.3,<0.13,>=0.11.1\n",
            "  Downloading tokenizers-0.12.1-cp37-cp37m-manylinux_2_12_x86_64.manylinux2010_x86_64.whl (6.6 MB)\n",
            "\u001b[K     |████████████████████████████████| 6.6 MB 50.8 MB/s \n",
            "\u001b[?25hRequirement already satisfied: filelock in /usr/local/lib/python3.7/dist-packages (from transformers) (3.6.0)\n",
            "Requirement already satisfied: packaging>=20.0 in /usr/local/lib/python3.7/dist-packages (from transformers) (21.3)\n",
            "Requirement already satisfied: requests in /usr/local/lib/python3.7/dist-packages (from transformers) (2.23.0)\n",
            "Requirement already satisfied: regex!=2019.12.17 in /usr/local/lib/python3.7/dist-packages (from transformers) (2019.12.20)\n",
            "Requirement already satisfied: tqdm>=4.27 in /usr/local/lib/python3.7/dist-packages (from transformers) (4.64.0)\n",
            "Requirement already satisfied: typing-extensions>=3.7.4.3 in /usr/local/lib/python3.7/dist-packages (from huggingface-hub<1.0,>=0.1.0->transformers) (4.2.0)\n",
            "Requirement already satisfied: pyparsing!=3.0.5,>=2.0.2 in /usr/local/lib/python3.7/dist-packages (from packaging>=20.0->transformers) (3.0.8)\n",
            "Requirement already satisfied: zipp>=0.5 in /usr/local/lib/python3.7/dist-packages (from importlib-metadata->transformers) (3.8.0)\n",
            "Requirement already satisfied: certifi>=2017.4.17 in /usr/local/lib/python3.7/dist-packages (from requests->transformers) (2021.10.8)\n",
            "Requirement already satisfied: idna<3,>=2.5 in /usr/local/lib/python3.7/dist-packages (from requests->transformers) (2.10)\n",
            "Requirement already satisfied: chardet<4,>=3.0.2 in /usr/local/lib/python3.7/dist-packages (from requests->transformers) (3.0.4)\n",
            "Requirement already satisfied: urllib3!=1.25.0,!=1.25.1,<1.26,>=1.21.1 in /usr/local/lib/python3.7/dist-packages (from requests->transformers) (1.24.3)\n",
            "Installing collected packages: pyyaml, tokenizers, huggingface-hub, transformers\n",
            "  Attempting uninstall: pyyaml\n",
            "    Found existing installation: PyYAML 3.13\n",
            "    Uninstalling PyYAML-3.13:\n",
            "      Successfully uninstalled PyYAML-3.13\n",
            "Successfully installed huggingface-hub-0.6.0 pyyaml-6.0 tokenizers-0.12.1 transformers-4.19.2\n"
          ]
        }
      ]
    },
    {
      "cell_type": "markdown",
      "metadata": {
        "id": "YnyhJZtTRNMx"
      },
      "source": [
        "## Importação dos pacotes"
      ]
    },
    {
      "cell_type": "code",
      "metadata": {
        "id": "qlIOVCajPWcU"
      },
      "source": [
        "import collections\n",
        "import itertools\n",
        "import functools\n",
        "import math\n",
        "import random\n",
        "\n",
        "import torch\n",
        "import torch.nn as nn\n",
        "import numpy as np\n",
        "from torch.utils.data import DataLoader\n",
        "from tqdm import tqdm_notebook\n"
      ],
      "execution_count": 3,
      "outputs": []
    },
    {
      "cell_type": "code",
      "source": [
        "# Check which GPU we are using\n",
        "!nvidia-smi"
      ],
      "metadata": {
        "id": "w9f3PfifAwpU",
        "colab": {
          "base_uri": "https://localhost:8080/"
        },
        "outputId": "73e38ecc-7c2e-43f5-b4bf-eecdfa17c82d"
      },
      "execution_count": 4,
      "outputs": [
        {
          "output_type": "stream",
          "name": "stdout",
          "text": [
            "Mon May 16 22:42:40 2022       \n",
            "+-----------------------------------------------------------------------------+\n",
            "| NVIDIA-SMI 460.32.03    Driver Version: 460.32.03    CUDA Version: 11.2     |\n",
            "|-------------------------------+----------------------+----------------------+\n",
            "| GPU  Name        Persistence-M| Bus-Id        Disp.A | Volatile Uncorr. ECC |\n",
            "| Fan  Temp  Perf  Pwr:Usage/Cap|         Memory-Usage | GPU-Util  Compute M. |\n",
            "|                               |                      |               MIG M. |\n",
            "|===============================+======================+======================|\n",
            "|   0  Tesla T4            Off  | 00000000:00:04.0 Off |                    0 |\n",
            "| N/A   40C    P8     9W /  70W |      0MiB / 15109MiB |      0%      Default |\n",
            "|                               |                      |                  N/A |\n",
            "+-------------------------------+----------------------+----------------------+\n",
            "                                                                               \n",
            "+-----------------------------------------------------------------------------+\n",
            "| Processes:                                                                  |\n",
            "|  GPU   GI   CI        PID   Type   Process name                  GPU Memory |\n",
            "|        ID   ID                                                   Usage      |\n",
            "|=============================================================================|\n",
            "|  No running processes found                                                 |\n",
            "+-----------------------------------------------------------------------------+\n"
          ]
        }
      ]
    },
    {
      "cell_type": "code",
      "source": [
        "if torch.cuda.is_available(): \n",
        "   dev = \"cuda:0\"\n",
        "else: \n",
        "   dev = \"cpu\"\n",
        "device = torch.device(dev)\n",
        "print('Using {}'.format(device))"
      ],
      "metadata": {
        "id": "whTCe2i7AtoV",
        "colab": {
          "base_uri": "https://localhost:8080/"
        },
        "outputId": "67152e7b-0c33-47a6-9448-9a38f21768c4"
      },
      "execution_count": 5,
      "outputs": [
        {
          "output_type": "stream",
          "name": "stdout",
          "text": [
            "Using cuda:0\n"
          ]
        }
      ]
    },
    {
      "cell_type": "markdown",
      "metadata": {
        "id": "9ZfxgV2DUk58"
      },
      "source": [
        "## Implementação do MyDataset"
      ]
    },
    {
      "cell_type": "code",
      "metadata": {
        "id": "n_xhKm1EZ3bQ"
      },
      "source": [
        "from typing import List\n",
        "\n",
        "def tokenize(text: str, tokenizer):\n",
        "    return tokenizer(text, return_tensors=None, add_special_tokens=False).input_ids\n",
        "\n",
        "class MyDataset():\n",
        "    def __init__(self, texts: List[str], tokenizer, context_size: int):\n",
        "        self.tokenizer = tokenizer\n",
        "        self.context_size = context_size\n",
        "        self.x = None\n",
        "        for i, text in enumerate(texts): \n",
        "            tokens = torch.LongTensor(tokenize(text, self.tokenizer))\n",
        "            for y_index in range(self.context_size, len(tokens)):\n",
        "                new_x = tokens[y_index - self.context_size : y_index].unsqueeze(0)\n",
        "                new_y = tokens[y_index].unsqueeze(0)\n",
        "                if self.x is None:\n",
        "                    self.x = new_x\n",
        "                    self.y = new_y\n",
        "                else:\n",
        "                    self.x = torch.cat((self.x, new_x))\n",
        "                    self.y = torch.cat((self.y, new_y))\n",
        "            if i % 10 == 9:\n",
        "                print('\\tprocessing text', i+1)\n",
        "\n",
        "    def __len__(self):\n",
        "        # Escreva seu código aqui\n",
        "        return len(self.y)\n",
        "\n",
        "    def __getitem__(self, idx):\n",
        "        # Escreva seu código aqui\n",
        "        return self.x[idx], self.y[idx]"
      ],
      "execution_count": 6,
      "outputs": []
    },
    {
      "cell_type": "markdown",
      "source": [
        "## Teste se sua implementação do MyDataset está correta"
      ],
      "metadata": {
        "id": "wew-gFbWeBTq"
      }
    },
    {
      "cell_type": "code",
      "source": [
        "from transformers import BertTokenizer\n",
        "\n",
        "tokenizer = BertTokenizer.from_pretrained(\"neuralmind/bert-base-portuguese-cased\")\n",
        "\n",
        "dummy_texts = ['Eu gosto de correr', 'Ela gosta muito de comer pizza']\n",
        "\n",
        "dummy_dataset = MyDataset(texts=dummy_texts, tokenizer=tokenizer, context_size=3)\n",
        "dummy_loader = DataLoader(dummy_dataset, batch_size=6, shuffle=False)\n",
        "assert len(dummy_dataset) == 5\n",
        "print('passou no assert de tamanho do dataset')\n",
        "\n",
        "first_batch_input, first_batch_target = next(iter(dummy_loader))\n",
        "\n",
        "correct_first_batch_input = torch.LongTensor(\n",
        "    [[ 3396, 10303,   125],\n",
        "     [ 1660,  5971,   785],\n",
        "     [ 5971,   785,   125],\n",
        "     [  785,   125,  1847],\n",
        "     [  125,  1847, 13779]])\n",
        "\n",
        "correct_first_batch_target = torch.LongTensor([13239,   125,  1847, 13779, 15616])\n",
        "\n",
        "assert torch.equal(first_batch_input, correct_first_batch_input)\n",
        "print('Passou no assert de input')\n",
        "assert torch.equal(first_batch_target, correct_first_batch_target)\n",
        "print('Passou no assert de target')"
      ],
      "metadata": {
        "id": "8r7jBFFUeApe",
        "colab": {
          "base_uri": "https://localhost:8080/",
          "height": 229,
          "referenced_widgets": [
            "e376e4d99c1046a4b1b6047c35c88081",
            "8bce653ee24b4a2da86d11e2fa1a07f1",
            "bb10b016c2d54ca9b2af444a4563cb23",
            "0b56e5471e154ac1a24e26f1cc52553f",
            "d1a3488df70147228d58f0be2afc088d",
            "4515a3b997874ff0b1f6525a97de46c1",
            "bf62221680c445a894d6bd8aff60dd11",
            "107bd125cc45480fbf6008e4e9f71f63",
            "6f42fbcdbf7a4eb68ca5ea797bf9aac3",
            "7af515996dc04c1395256d9e25380fd2",
            "4799c22dfeab4df89b4110665e70c1b3",
            "005aea0d7e6c48afacf607a5c694d583",
            "f9234fdf8c0746d1a6fb01d06f39b381",
            "3ad94cbc98b84b31a895c4cfbcfca50f",
            "ba8bda5fb84247c79b2b8cfbb2af8d62",
            "bbe08b2d236e4fa6b4a350f00b6f3065",
            "fb07cd32a2894e50857582307d3a6708",
            "4fd8ac04dbed43ac9792d330a9cfdc93",
            "2fbfdaaebb3d4f35b6dc835e705b13f3",
            "ec73cd66a8344de6a90fccac24896b3d",
            "f7a447166e014861b95a3533b7b6e5a3",
            "c70208a832114769b1a20c8fa49e50f2",
            "44692387ce21489cbbb1b114191bfb4b",
            "ab5f66d178b0496483280b46b27480c8",
            "7bb1d6900da84b0ea697491a5a1ac04e",
            "bdc436d0017e4fb494cb91943a77bfb0",
            "7437860a13bd4afdab331404b847c241",
            "bc1c25d22977428bbac595927b0ef70a",
            "469cd5a2e75e4c76ad9b2987208ad31c",
            "58532e604c5b46e9b03297372788c2bf",
            "2a32348db2e341cb8ed2abd13732abac",
            "990740f030ca4fa596f9c09d08bf836d",
            "1ebc75bd941740198ddb9e8067816ff9",
            "b1fb7ad89bfd4a8f90613e8553f3541f",
            "c3c09603d34b4ca69e61d1603a70d12b",
            "3e3bc27a207b42b3af350a62007e2572",
            "fc7a2f5429f547d594640a6e308efd05",
            "60dcfb9e9dd84fbc952ce0425d021475",
            "e55b0bea59be4a4eb6d37b3a5a7b171b",
            "a4c66977cd9b46a4847b5be4473e898e",
            "1996cf4c6c7c4293a513a8e2a549936f",
            "e9c2a8a411a6410a8180435cd6cfc274",
            "c612bd55b9cb4bbb969208e1d5d2eec1",
            "540c003aadc44ac99a7291cb4c8fe94d",
            "b1eed106cd514551a5a2f66aca362964",
            "ffe13df320f944be85e0227ce3f59332",
            "e4a6dc2a854549428feee4c5d7e8adda",
            "4350221fff00494abd639a3f8dd43b43",
            "d67a9bdb354149258df6b97d152d7f12",
            "7bff0ef72dd7442faceb4f1be12b9f2f",
            "c6f2d65ab8984c58a54acd1c4b3cc98b",
            "0cb1a16be73941cb8025870a3a608097",
            "8ae2f2e59fc94d1f972bb37e7181aeca",
            "96a7799fec5e47529128a61a2cc04af9",
            "6928425a1b1f4ce5af3d77f683799395"
          ]
        },
        "outputId": "b5a90f32-1e1c-4159-c5a4-53ff75f6ec37"
      },
      "execution_count": 7,
      "outputs": [
        {
          "output_type": "display_data",
          "data": {
            "text/plain": [
              "Downloading:   0%|          | 0.00/205k [00:00<?, ?B/s]"
            ],
            "application/vnd.jupyter.widget-view+json": {
              "version_major": 2,
              "version_minor": 0,
              "model_id": "e376e4d99c1046a4b1b6047c35c88081"
            }
          },
          "metadata": {}
        },
        {
          "output_type": "display_data",
          "data": {
            "text/plain": [
              "Downloading:   0%|          | 0.00/2.00 [00:00<?, ?B/s]"
            ],
            "application/vnd.jupyter.widget-view+json": {
              "version_major": 2,
              "version_minor": 0,
              "model_id": "005aea0d7e6c48afacf607a5c694d583"
            }
          },
          "metadata": {}
        },
        {
          "output_type": "display_data",
          "data": {
            "text/plain": [
              "Downloading:   0%|          | 0.00/112 [00:00<?, ?B/s]"
            ],
            "application/vnd.jupyter.widget-view+json": {
              "version_major": 2,
              "version_minor": 0,
              "model_id": "44692387ce21489cbbb1b114191bfb4b"
            }
          },
          "metadata": {}
        },
        {
          "output_type": "display_data",
          "data": {
            "text/plain": [
              "Downloading:   0%|          | 0.00/43.0 [00:00<?, ?B/s]"
            ],
            "application/vnd.jupyter.widget-view+json": {
              "version_major": 2,
              "version_minor": 0,
              "model_id": "b1fb7ad89bfd4a8f90613e8553f3541f"
            }
          },
          "metadata": {}
        },
        {
          "output_type": "display_data",
          "data": {
            "text/plain": [
              "Downloading:   0%|          | 0.00/647 [00:00<?, ?B/s]"
            ],
            "application/vnd.jupyter.widget-view+json": {
              "version_major": 2,
              "version_minor": 0,
              "model_id": "b1eed106cd514551a5a2f66aca362964"
            }
          },
          "metadata": {}
        },
        {
          "output_type": "stream",
          "name": "stdout",
          "text": [
            "passou no assert de tamanho do dataset\n",
            "Passou no assert de input\n",
            "Passou no assert de target\n"
          ]
        }
      ]
    },
    {
      "cell_type": "code",
      "source": [
        "dummy_texts = ['Eu gosto de correr' 'Ela gosta muito de comer pizza']\n",
        "dummy_dataset = MyDataset(texts=dummy_texts, tokenizer=tokenizer, context_size=3)\n",
        "dummy_loader = DataLoader(dummy_dataset, batch_size=9, shuffle=False)\n",
        "first_batch_input, first_batch_target = next(iter(dummy_loader))\n",
        "for i, target in enumerate(first_batch_target):\n",
        "    print([tokenizer.decode(token) for token in first_batch_input[i]], '->', tokenizer.decode(target))"
      ],
      "metadata": {
        "colab": {
          "base_uri": "https://localhost:8080/"
        },
        "id": "qUH8Hiw0H5cI",
        "outputId": "78f7d6d2-205c-4588-ed9c-480c00036345"
      },
      "execution_count": 8,
      "outputs": [
        {
          "output_type": "stream",
          "name": "stdout",
          "text": [
            "['E u', 'g o s t o', 'd e'] -> c o r r e r\n",
            "['g o s t o', 'd e', 'c o r r e r'] -> # # E l\n",
            "['d e', 'c o r r e r', '# # E l'] -> # # a\n",
            "['c o r r e r', '# # E l', '# # a'] -> g o s t a\n",
            "['# # E l', '# # a', 'g o s t a'] -> m u i t o\n",
            "['# # a', 'g o s t a', 'm u i t o'] -> d e\n",
            "['g o s t a', 'm u i t o', 'd e'] -> c o m e r\n",
            "['m u i t o', 'd e', 'c o m e r'] -> p i\n",
            "['d e', 'c o m e r', 'p i'] -> # # z z a\n"
          ]
        }
      ]
    },
    {
      "cell_type": "markdown",
      "source": [
        "## Inicialização do Neptune"
      ],
      "metadata": {
        "id": "1M7dD6p7qX_S"
      }
    },
    {
      "cell_type": "code",
      "source": [
        "!pip install -U neptune-client"
      ],
      "metadata": {
        "colab": {
          "base_uri": "https://localhost:8080/",
          "height": 1000
        },
        "id": "0IUBwQEjqW63",
        "outputId": "d2ea5b26-f1b0-4aca-df37-5db6e7182d65"
      },
      "execution_count": 9,
      "outputs": [
        {
          "output_type": "stream",
          "name": "stdout",
          "text": [
            "Collecting neptune-client\n",
            "  Downloading neptune-client-0.16.2.tar.gz (316 kB)\n",
            "\u001b[K     |████████████████████████████████| 316 kB 8.0 MB/s \n",
            "\u001b[?25hCollecting bravado\n",
            "  Downloading bravado-11.0.3-py2.py3-none-any.whl (38 kB)\n",
            "Requirement already satisfied: click>=7.0 in /usr/local/lib/python3.7/dist-packages (from neptune-client) (7.1.2)\n",
            "Collecting future>=0.17.1\n",
            "  Downloading future-0.18.2.tar.gz (829 kB)\n",
            "\u001b[K     |████████████████████████████████| 829 kB 44.3 MB/s \n",
            "\u001b[?25hRequirement already satisfied: oauthlib>=2.1.0 in /usr/local/lib/python3.7/dist-packages (from neptune-client) (3.2.0)\n",
            "Requirement already satisfied: pandas in /usr/local/lib/python3.7/dist-packages (from neptune-client) (1.3.5)\n",
            "Requirement already satisfied: Pillow>=1.1.6 in /usr/local/lib/python3.7/dist-packages (from neptune-client) (7.1.2)\n",
            "Collecting PyJWT\n",
            "  Downloading PyJWT-2.4.0-py3-none-any.whl (18 kB)\n",
            "Requirement already satisfied: requests>=2.20.0 in /usr/local/lib/python3.7/dist-packages (from neptune-client) (2.23.0)\n",
            "Requirement already satisfied: requests-oauthlib>=1.0.0 in /usr/local/lib/python3.7/dist-packages (from neptune-client) (1.3.1)\n",
            "Requirement already satisfied: six>=1.12.0 in /usr/local/lib/python3.7/dist-packages (from neptune-client) (1.15.0)\n",
            "Collecting websocket-client!=1.0.0,>=0.35.0\n",
            "  Downloading websocket_client-1.3.2-py3-none-any.whl (54 kB)\n",
            "\u001b[K     |████████████████████████████████| 54 kB 2.6 MB/s \n",
            "\u001b[?25hCollecting GitPython>=2.0.8\n",
            "  Downloading GitPython-3.1.27-py3-none-any.whl (181 kB)\n",
            "\u001b[K     |████████████████████████████████| 181 kB 29.3 MB/s \n",
            "\u001b[?25hCollecting boto3>=1.16.0\n",
            "  Downloading boto3-1.23.1-py3-none-any.whl (132 kB)\n",
            "\u001b[K     |████████████████████████████████| 132 kB 11.9 MB/s \n",
            "\u001b[?25hRequirement already satisfied: packaging in /usr/local/lib/python3.7/dist-packages (from neptune-client) (21.3)\n",
            "Requirement already satisfied: urllib3 in /usr/local/lib/python3.7/dist-packages (from neptune-client) (1.24.3)\n",
            "Collecting swagger-spec-validator>=2.7.4\n",
            "  Downloading swagger_spec_validator-2.7.4-py2.py3-none-any.whl (27 kB)\n",
            "Requirement already satisfied: psutil in /usr/local/lib/python3.7/dist-packages (from neptune-client) (5.4.8)\n",
            "Collecting botocore<1.27.0,>=1.26.1\n",
            "  Downloading botocore-1.26.1-py3-none-any.whl (8.7 MB)\n",
            "\u001b[K     |████████████████████████████████| 8.7 MB 54.1 MB/s \n",
            "\u001b[?25hCollecting jmespath<2.0.0,>=0.7.1\n",
            "  Downloading jmespath-1.0.0-py3-none-any.whl (23 kB)\n",
            "Collecting s3transfer<0.6.0,>=0.5.0\n",
            "  Downloading s3transfer-0.5.2-py3-none-any.whl (79 kB)\n",
            "\u001b[K     |████████████████████████████████| 79 kB 10.7 MB/s \n",
            "\u001b[?25hRequirement already satisfied: python-dateutil<3.0.0,>=2.1 in /usr/local/lib/python3.7/dist-packages (from botocore<1.27.0,>=1.26.1->boto3>=1.16.0->neptune-client) (2.8.2)\n",
            "Collecting urllib3\n",
            "  Downloading urllib3-1.26.9-py2.py3-none-any.whl (138 kB)\n",
            "\u001b[K     |████████████████████████████████| 138 kB 74.0 MB/s \n",
            "\u001b[?25hRequirement already satisfied: typing-extensions>=3.7.4.3 in /usr/local/lib/python3.7/dist-packages (from GitPython>=2.0.8->neptune-client) (4.2.0)\n",
            "Collecting gitdb<5,>=4.0.1\n",
            "  Downloading gitdb-4.0.9-py3-none-any.whl (63 kB)\n",
            "\u001b[K     |████████████████████████████████| 63 kB 2.2 MB/s \n",
            "\u001b[?25hCollecting smmap<6,>=3.0.1\n",
            "  Downloading smmap-5.0.0-py3-none-any.whl (24 kB)\n",
            "Requirement already satisfied: chardet<4,>=3.0.2 in /usr/local/lib/python3.7/dist-packages (from requests>=2.20.0->neptune-client) (3.0.4)\n",
            "Requirement already satisfied: idna<3,>=2.5 in /usr/local/lib/python3.7/dist-packages (from requests>=2.20.0->neptune-client) (2.10)\n",
            "Collecting urllib3\n",
            "  Downloading urllib3-1.25.11-py2.py3-none-any.whl (127 kB)\n",
            "\u001b[K     |████████████████████████████████| 127 kB 70.6 MB/s \n",
            "\u001b[?25hRequirement already satisfied: certifi>=2017.4.17 in /usr/local/lib/python3.7/dist-packages (from requests>=2.20.0->neptune-client) (2021.10.8)\n",
            "Requirement already satisfied: jsonschema in /usr/local/lib/python3.7/dist-packages (from swagger-spec-validator>=2.7.4->neptune-client) (4.3.3)\n",
            "Requirement already satisfied: pyyaml in /usr/local/lib/python3.7/dist-packages (from swagger-spec-validator>=2.7.4->neptune-client) (6.0)\n",
            "Collecting simplejson\n",
            "  Downloading simplejson-3.17.6-cp37-cp37m-manylinux_2_5_x86_64.manylinux1_x86_64.manylinux_2_12_x86_64.manylinux2010_x86_64.whl (130 kB)\n",
            "\u001b[K     |████████████████████████████████| 130 kB 70.6 MB/s \n",
            "\u001b[?25hCollecting monotonic\n",
            "  Downloading monotonic-1.6-py2.py3-none-any.whl (8.2 kB)\n",
            "Requirement already satisfied: msgpack in /usr/local/lib/python3.7/dist-packages (from bravado->neptune-client) (1.0.3)\n",
            "Collecting bravado-core>=5.16.1\n",
            "  Downloading bravado_core-5.17.0-py2.py3-none-any.whl (67 kB)\n",
            "\u001b[K     |████████████████████████████████| 67 kB 6.9 MB/s \n",
            "\u001b[?25hCollecting jsonref\n",
            "  Downloading jsonref-0.2-py3-none-any.whl (9.3 kB)\n",
            "Requirement already satisfied: pytz in /usr/local/lib/python3.7/dist-packages (from bravado-core>=5.16.1->bravado->neptune-client) (2022.1)\n",
            "Requirement already satisfied: attrs>=17.4.0 in /usr/local/lib/python3.7/dist-packages (from jsonschema->swagger-spec-validator>=2.7.4->neptune-client) (21.4.0)\n",
            "Requirement already satisfied: importlib-metadata in /usr/local/lib/python3.7/dist-packages (from jsonschema->swagger-spec-validator>=2.7.4->neptune-client) (4.11.3)\n",
            "Requirement already satisfied: importlib-resources>=1.4.0 in /usr/local/lib/python3.7/dist-packages (from jsonschema->swagger-spec-validator>=2.7.4->neptune-client) (5.7.1)\n",
            "Requirement already satisfied: pyrsistent!=0.17.0,!=0.17.1,!=0.17.2,>=0.14.0 in /usr/local/lib/python3.7/dist-packages (from jsonschema->swagger-spec-validator>=2.7.4->neptune-client) (0.18.1)\n",
            "Collecting rfc3339-validator\n",
            "  Downloading rfc3339_validator-0.1.4-py2.py3-none-any.whl (3.5 kB)\n",
            "Collecting jsonpointer>1.13\n",
            "  Downloading jsonpointer-2.3-py2.py3-none-any.whl (7.8 kB)\n",
            "Collecting fqdn\n",
            "  Downloading fqdn-1.5.1-py3-none-any.whl (9.1 kB)\n",
            "Collecting webcolors>=1.11\n",
            "  Downloading webcolors-1.11.1-py3-none-any.whl (9.9 kB)\n",
            "Collecting isoduration\n",
            "  Downloading isoduration-20.11.0-py3-none-any.whl (11 kB)\n",
            "Collecting uri-template\n",
            "  Downloading uri_template-1.2.0-py3-none-any.whl (10 kB)\n",
            "Collecting rfc3987\n",
            "  Downloading rfc3987-1.3.8-py2.py3-none-any.whl (13 kB)\n",
            "Requirement already satisfied: zipp>=3.1.0 in /usr/local/lib/python3.7/dist-packages (from importlib-resources>=1.4.0->jsonschema->swagger-spec-validator>=2.7.4->neptune-client) (3.8.0)\n",
            "Requirement already satisfied: cached-property>=1.3.0 in /usr/local/lib/python3.7/dist-packages (from fqdn->jsonschema->swagger-spec-validator>=2.7.4->neptune-client) (1.5.2)\n",
            "Collecting arrow>=0.15.0\n",
            "  Downloading arrow-1.2.2-py3-none-any.whl (64 kB)\n",
            "\u001b[K     |████████████████████████████████| 64 kB 3.4 MB/s \n",
            "\u001b[?25hRequirement already satisfied: pyparsing!=3.0.5,>=2.0.2 in /usr/local/lib/python3.7/dist-packages (from packaging->neptune-client) (3.0.8)\n",
            "Requirement already satisfied: numpy>=1.17.3 in /usr/local/lib/python3.7/dist-packages (from pandas->neptune-client) (1.21.6)\n",
            "Building wheels for collected packages: neptune-client, future\n",
            "  Building wheel for neptune-client (setup.py) ... \u001b[?25l\u001b[?25hdone\n",
            "  Created wheel for neptune-client: filename=neptune_client-0.16.2-py2.py3-none-any.whl size=566337 sha256=826ab1fb8cabbd8af4581da55f0c825805a8561985e22d604a6001eeafe1639c\n",
            "  Stored in directory: /root/.cache/pip/wheels/6f/e9/85/964258b089a9890c505f5024f049fdbef3b59f4e3039474be7\n",
            "  Building wheel for future (setup.py) ... \u001b[?25l\u001b[?25hdone\n",
            "  Created wheel for future: filename=future-0.18.2-py3-none-any.whl size=491070 sha256=b7465ecd80c7c812d716c781b308ae11cb32b78e2ab504daa2ce62123b01305b\n",
            "  Stored in directory: /root/.cache/pip/wheels/56/b0/fe/4410d17b32f1f0c3cf54cdfb2bc04d7b4b8f4ae377e2229ba0\n",
            "Successfully built neptune-client future\n",
            "Installing collected packages: arrow, webcolors, urllib3, uri-template, rfc3987, rfc3339-validator, jsonpointer, jmespath, isoduration, fqdn, swagger-spec-validator, smmap, simplejson, jsonref, botocore, s3transfer, monotonic, gitdb, bravado-core, websocket-client, PyJWT, GitPython, future, bravado, boto3, neptune-client\n",
            "  Attempting uninstall: urllib3\n",
            "    Found existing installation: urllib3 1.24.3\n",
            "    Uninstalling urllib3-1.24.3:\n",
            "      Successfully uninstalled urllib3-1.24.3\n",
            "  Attempting uninstall: future\n",
            "    Found existing installation: future 0.16.0\n",
            "    Uninstalling future-0.16.0:\n",
            "      Successfully uninstalled future-0.16.0\n",
            "\u001b[31mERROR: pip's dependency resolver does not currently take into account all the packages that are installed. This behaviour is the source of the following dependency conflicts.\n",
            "datascience 0.10.6 requires folium==0.2.1, but you have folium 0.8.3 which is incompatible.\u001b[0m\n",
            "Successfully installed GitPython-3.1.27 PyJWT-2.4.0 arrow-1.2.2 boto3-1.23.1 botocore-1.26.1 bravado-11.0.3 bravado-core-5.17.0 fqdn-1.5.1 future-0.18.2 gitdb-4.0.9 isoduration-20.11.0 jmespath-1.0.0 jsonpointer-2.3 jsonref-0.2 monotonic-1.6 neptune-client-0.16.2 rfc3339-validator-0.1.4 rfc3987-1.3.8 s3transfer-0.5.2 simplejson-3.17.6 smmap-5.0.0 swagger-spec-validator-2.7.4 uri-template-1.2.0 urllib3-1.25.11 webcolors-1.11.1 websocket-client-1.3.2\n"
          ]
        },
        {
          "output_type": "display_data",
          "data": {
            "application/vnd.colab-display-data+json": {
              "pip_warning": {
                "packages": [
                  "urllib3"
                ]
              }
            }
          },
          "metadata": {}
        }
      ]
    },
    {
      "cell_type": "code",
      "source": [
        "import neptune.new as neptune\n",
        "\n",
        "run = neptune.init(\n",
        "    project=\"leonardo3108/IA025Aula7\",\n",
        "    api_token=\"eyJhcGlfYWRkcmVzcyI6Imh0dHBzOi8vYXBwLm5lcHR1bmUuYWkiLCJhcGlfdXJsIjoiaHR0cHM6Ly9hcHAubmVwdHVuZS5haSIsImFwaV9rZXkiOiJhZDJhYWRmZi0zZmE0LTRhYzAtYThlMS1iYmJjMzU1NWU5YzQifQ==\",\n",
        ")"
      ],
      "metadata": {
        "colab": {
          "base_uri": "https://localhost:8080/"
        },
        "id": "dfHMIxIWqdLp",
        "outputId": "e5207239-42f1-44af-a641-5efb3d31a4fa"
      },
      "execution_count": 11,
      "outputs": [
        {
          "output_type": "stream",
          "name": "stdout",
          "text": [
            "https://app.neptune.ai/leonardo3108/IA025Aula7/e/IA025AULA7-7\n",
            "Remember to stop your run once you’ve finished logging your metadata (https://docs.neptune.ai/api-reference/run#.stop). It will be stopped automatically only when the notebook kernel/interactive console is terminated.\n"
          ]
        }
      ]
    },
    {
      "cell_type": "markdown",
      "source": [
        "## Definindo os parametros"
      ],
      "metadata": {
        "id": "x0edH-FYvTqN"
      }
    },
    {
      "cell_type": "code",
      "source": [
        "params = {\n",
        "    'context_size': 9,\n",
        "    'valid_texts': 200,\n",
        "    'test_texts': 200,\n",
        "    'train_texts': 600,\n",
        "    'embedding_dim': 64,\n",
        "    'hidden_size': 128,\n",
        "    'batch_size': 64,\n",
        "    'num_workers':2,\n",
        "    'learning_rate': 3e-5,\n",
        "    'max_examples': 100_000_000,\n",
        "    'eval_every_steps': 5000\n",
        "}"
      ],
      "metadata": {
        "id": "_LwywZD3vKeQ"
      },
      "execution_count": 12,
      "outputs": []
    },
    {
      "cell_type": "markdown",
      "metadata": {
        "id": "4LfrHHouleJ0"
      },
      "source": [
        "# Carregamento do dataset "
      ]
    },
    {
      "cell_type": "markdown",
      "metadata": {
        "id": "V2vFWjsSkmop"
      },
      "source": [
        "Iremos usar uma pequena amostra do dataset [BrWaC](https://www.inf.ufrgs.br/pln/wiki/index.php?title=BrWaC) para treinar e avaliar nosso modelo de linguagem."
      ]
    },
    {
      "cell_type": "code",
      "source": [
        "!wget -nc https://storage.googleapis.com/unicamp-dl/ia025a_2022s1/aula7/sample_brwac.txt"
      ],
      "metadata": {
        "id": "vGlN1WqrXPA6",
        "colab": {
          "base_uri": "https://localhost:8080/"
        },
        "outputId": "90ff502f-32d9-4d76-9dca-ea6014bd0b10"
      },
      "execution_count": 13,
      "outputs": [
        {
          "output_type": "stream",
          "name": "stdout",
          "text": [
            "--2022-05-16 22:43:33--  https://storage.googleapis.com/unicamp-dl/ia025a_2022s1/aula7/sample_brwac.txt\n",
            "Resolving storage.googleapis.com (storage.googleapis.com)... 142.250.107.128, 173.194.202.128, 173.194.203.128, ...\n",
            "Connecting to storage.googleapis.com (storage.googleapis.com)|142.250.107.128|:443... connected.\n",
            "HTTP request sent, awaiting response... 200 OK\n",
            "Length: 123983611 (118M) [text/plain]\n",
            "Saving to: ‘sample_brwac.txt’\n",
            "\n",
            "sample_brwac.txt    100%[===================>] 118.24M   192MB/s    in 0.6s    \n",
            "\n",
            "2022-05-16 22:43:34 (192 MB/s) - ‘sample_brwac.txt’ saved [123983611/123983611]\n",
            "\n"
          ]
        }
      ]
    },
    {
      "cell_type": "code",
      "source": [
        "# Load datasets\n",
        "texts = open('sample_brwac.txt').readlines()\n",
        "\n",
        "print('Truncating for debugging purposes.')\n",
        "texts = texts[: (params['train_texts'] + params['valid_texts'] + params['test_texts'])]\n",
        "\n",
        "training_texts = texts[:-(params['valid_texts'] + params['test_texts'])]\n",
        "valid_texts = texts[-(params['valid_texts'] + params['test_texts']):-params['test_texts']]\n",
        "test_texts = texts[-params['test_texts']:]\n",
        "\n",
        "print('Building training dataset.')\n",
        "training_dataset = MyDataset(texts=training_texts, tokenizer=tokenizer, context_size=params['context_size'])\n",
        "print('Building validation dataset.')\n",
        "valid_dataset = MyDataset(texts=valid_texts, tokenizer=tokenizer, context_size=params['context_size'])\n",
        "print('Building test dataset.')\n",
        "test_dataset = MyDataset(texts=test_texts, tokenizer=tokenizer, context_size=params['context_size'])"
      ],
      "metadata": {
        "id": "gxa_4gmiA-wE",
        "colab": {
          "base_uri": "https://localhost:8080/"
        },
        "outputId": "0edc38b7-dff7-4d2f-f555-88b06253d268"
      },
      "execution_count": 14,
      "outputs": [
        {
          "output_type": "stream",
          "name": "stdout",
          "text": [
            "Truncating for debugging purposes.\n",
            "Building training dataset.\n",
            "\tprocessing text 10\n",
            "\tprocessing text 20\n",
            "\tprocessing text 30\n",
            "\tprocessing text 40\n",
            "\tprocessing text 50\n",
            "\tprocessing text 60\n",
            "\tprocessing text 70\n",
            "\tprocessing text 80\n",
            "\tprocessing text 90\n",
            "\tprocessing text 100\n",
            "\tprocessing text 110\n",
            "\tprocessing text 120\n",
            "\tprocessing text 130\n",
            "\tprocessing text 140\n",
            "\tprocessing text 150\n",
            "\tprocessing text 160\n",
            "\tprocessing text 170\n",
            "\tprocessing text 180\n",
            "\tprocessing text 190\n",
            "\tprocessing text 200\n",
            "\tprocessing text 210\n",
            "\tprocessing text 220\n",
            "\tprocessing text 230\n",
            "\tprocessing text 240\n",
            "\tprocessing text 250\n",
            "\tprocessing text 260\n",
            "\tprocessing text 270\n",
            "\tprocessing text 280\n",
            "\tprocessing text 290\n",
            "\tprocessing text 300\n",
            "\tprocessing text 310\n",
            "\tprocessing text 320\n",
            "\tprocessing text 330\n",
            "\tprocessing text 340\n",
            "\tprocessing text 350\n",
            "\tprocessing text 360\n",
            "\tprocessing text 370\n",
            "\tprocessing text 380\n",
            "\tprocessing text 390\n",
            "\tprocessing text 400\n",
            "\tprocessing text 410\n",
            "\tprocessing text 420\n",
            "\tprocessing text 430\n",
            "\tprocessing text 440\n",
            "\tprocessing text 450\n",
            "\tprocessing text 460\n",
            "\tprocessing text 470\n",
            "\tprocessing text 480\n",
            "\tprocessing text 490\n",
            "\tprocessing text 500\n",
            "\tprocessing text 510\n",
            "\tprocessing text 520\n",
            "\tprocessing text 530\n",
            "\tprocessing text 540\n",
            "\tprocessing text 550\n",
            "\tprocessing text 560\n",
            "\tprocessing text 570\n",
            "\tprocessing text 580\n",
            "\tprocessing text 590\n",
            "\tprocessing text 600\n",
            "Building validation dataset.\n",
            "\tprocessing text 10\n",
            "\tprocessing text 20\n",
            "\tprocessing text 30\n",
            "\tprocessing text 40\n",
            "\tprocessing text 50\n",
            "\tprocessing text 60\n",
            "\tprocessing text 70\n",
            "\tprocessing text 80\n",
            "\tprocessing text 90\n",
            "\tprocessing text 100\n",
            "\tprocessing text 110\n",
            "\tprocessing text 120\n",
            "\tprocessing text 130\n",
            "\tprocessing text 140\n",
            "\tprocessing text 150\n",
            "\tprocessing text 160\n",
            "\tprocessing text 170\n",
            "\tprocessing text 180\n",
            "\tprocessing text 190\n",
            "\tprocessing text 200\n",
            "Building test dataset.\n",
            "\tprocessing text 10\n",
            "\tprocessing text 20\n",
            "\tprocessing text 30\n",
            "\tprocessing text 40\n",
            "\tprocessing text 50\n",
            "\tprocessing text 60\n",
            "\tprocessing text 70\n",
            "\tprocessing text 80\n",
            "\tprocessing text 90\n",
            "\tprocessing text 100\n",
            "\tprocessing text 110\n",
            "\tprocessing text 120\n",
            "\tprocessing text 130\n",
            "\tprocessing text 140\n",
            "\tprocessing text 150\n",
            "\tprocessing text 160\n",
            "\tprocessing text 170\n",
            "\tprocessing text 180\n",
            "\tprocessing text 190\n",
            "\tprocessing text 200\n"
          ]
        }
      ]
    },
    {
      "cell_type": "code",
      "source": [
        "print(f'training examples: {len(training_dataset)}')\n",
        "print(f'valid examples: {len(valid_dataset)}')\n",
        "print(f'test examples: {len(test_dataset)}')"
      ],
      "metadata": {
        "id": "KCSGJ5m7py4c",
        "colab": {
          "base_uri": "https://localhost:8080/"
        },
        "outputId": "0922a5db-6b31-4cb5-df60-0e573e952122"
      },
      "execution_count": 15,
      "outputs": [
        {
          "output_type": "stream",
          "name": "stdout",
          "text": [
            "training examples: 769045\n",
            "valid examples: 158150\n",
            "test examples: 230004\n"
          ]
        }
      ]
    },
    {
      "cell_type": "code",
      "metadata": {
        "id": "hGaAjYDfWdd1"
      },
      "source": [
        "from torch.nn import Module, Embedding, Flatten, Linear\n",
        "\n",
        "# Baseado em https://abhinavcreed13.github.io/blog/bengio-trigram-nplm-using-pytorch/, dica do Marcus Borela\n",
        "\n",
        "class LanguageModel(Module):\n",
        "\n",
        "    def __init__(self, vocab_size, context_size, embedding_dim, hidden_size):\n",
        "        \"\"\"\n",
        "        Implements the Neural Language Model proposed by Bengio et al.\"\n",
        "\n",
        "        Args:\n",
        "            vocab_size (int): Size of the input vocabulary.\n",
        "            context_size (int): Size of the sequence to consider as context for prediction.\n",
        "            embedding_dim (int): Dimension of the embedding layer for each word in the context.\n",
        "            hidden_size (int): Size of the hidden layer.\n",
        "        \"\"\"\n",
        "        # Escreva seu código aqui.\n",
        "        super(LanguageModel, self).__init__()\n",
        "        self.context_size = context_size\n",
        "        self.embedding_dim = embedding_dim\n",
        "        self.vocab_size = vocab_size\n",
        "        self.hidden_size = hidden_size\n",
        "\n",
        "        self.embeddings = Embedding(self.vocab_size, self.embedding_dim)     \n",
        "        self.flatten = nn.Flatten()\n",
        "        self.linear1 = Linear(self.context_size * self.embedding_dim, self.hidden_size, bias=True)\n",
        "        self.linear2 = Linear(self.hidden_size, self.vocab_size, bias = False)\n",
        "        #self.direct  = Linear(self.context_size * self.embedding_dim, self.vocab_size, bias=True)\n",
        "\n",
        "    def forward(self, inputs):\n",
        "        \"\"\"\n",
        "        Args:\n",
        "            inputs is a LongTensor of shape (batch_size, context_size)\n",
        "        \"\"\"\n",
        "        # Escreva seu código aqui.\n",
        "        c = self.embeddings(inputs)  # transforma em embeddings / look-up table - C(x)\n",
        "        c = self.flatten(c)          # achata em 1 dim (cada amostra) - C(w)\n",
        "        out = self.linear1(c)        # aplica primeira transformacao linear (com bias)\n",
        "        out = torch.tanh(out)        # h = tanh(W1.C(w) + b)\n",
        "        out = self.linear2(out)      # aplica primeira transformacao linear (sem bias)\n",
        "        #out += self.direct(c)        # aplica primeira transformacao linear (sem bias)\n",
        "        return out"
      ],
      "execution_count": 21,
      "outputs": []
    },
    {
      "cell_type": "markdown",
      "source": [
        "## Teste o modelo com um exemplo"
      ],
      "metadata": {
        "id": "Rm6_PTH2i98e"
      }
    },
    {
      "cell_type": "code",
      "metadata": {
        "id": "RwnxfZlrZoT_",
        "colab": {
          "base_uri": "https://localhost:8080/"
        },
        "outputId": "3b9c2dd1-dbaf-41d9-f8ad-5a74c5c39585"
      },
      "source": [
        "model = LanguageModel(\n",
        "    vocab_size = tokenizer.vocab_size,\n",
        "    context_size = params['context_size'],\n",
        "    embedding_dim = params['embedding_dim'],\n",
        "    hidden_size = params['hidden_size'],\n",
        ").to(device)\n",
        "\n",
        "sample_train, _ = next(iter(DataLoader(training_dataset)))\n",
        "sample_train_gpu = sample_train.to(device)\n",
        "model(sample_train_gpu).shape"
      ],
      "execution_count": 22,
      "outputs": [
        {
          "output_type": "execute_result",
          "data": {
            "text/plain": [
              "torch.Size([1, 29794])"
            ]
          },
          "metadata": {},
          "execution_count": 22
        }
      ]
    },
    {
      "cell_type": "code",
      "metadata": {
        "id": "I3Vh6B-VkA01",
        "colab": {
          "base_uri": "https://localhost:8080/"
        },
        "outputId": "bf53478d-15ed-404c-ecb8-eab4a1de8741"
      },
      "source": [
        "num_params = sum(p.numel() for p in model.parameters() if p.requires_grad)\n",
        "print(f'Number of model parameters: {num_params}')"
      ],
      "execution_count": 23,
      "outputs": [
        {
          "output_type": "stream",
          "name": "stdout",
          "text": [
            "Number of model parameters: 5794304\n"
          ]
        }
      ]
    },
    {
      "cell_type": "markdown",
      "source": [
        "## Assert da Perplexidade\n"
      ],
      "metadata": {
        "id": "8nhbUVsYnVAp"
      }
    },
    {
      "cell_type": "code",
      "source": [
        "from torch import exp\n",
        "import torch.nn.functional as F\n",
        "\n",
        "random.seed(123)\n",
        "np.random.seed(123)\n",
        "torch.manual_seed(123)\n",
        "\n",
        "\n",
        "def perplexity(logits, target):\n",
        "    \"\"\"\n",
        "    Computes the perplexity.\n",
        "\n",
        "    Args:\n",
        "        logits: a FloatTensor of shape (batch_size, vocab_size)\n",
        "        target: a LongTensor of shape (batch_size,)\n",
        "\n",
        "    Returns:\n",
        "        A float corresponding to the perplexity.\n",
        "    \"\"\"\n",
        "    # Escreva seu código aqui.\n",
        "    loss = F.cross_entropy(logits, target)\n",
        "    return exp(loss)\n",
        "\n",
        "n_examples = 1000\n",
        "\n",
        "sample_train, target_token_ids = next(iter(DataLoader(training_dataset, batch_size=n_examples)))\n",
        "sample_train_gpu = sample_train.to(device)\n",
        "target_token_ids = target_token_ids.to(device)\n",
        "logits = model(sample_train_gpu)\n",
        "\n",
        "my_perplexity = perplexity(logits=logits, target=target_token_ids)\n",
        "\n",
        "print(f'my perplexity:              {int(my_perplexity)}')\n",
        "print(f'correct initial perplexity: {tokenizer.vocab_size}')\n",
        "\n",
        "assert math.isclose(my_perplexity, tokenizer.vocab_size, abs_tol=2000)\n",
        "print('Passou o no assert da perplexidade')"
      ],
      "metadata": {
        "id": "gbMP8VAUncfX",
        "colab": {
          "base_uri": "https://localhost:8080/"
        },
        "outputId": "5bd0300b-e46a-4779-e59d-f2156cd34b2b"
      },
      "execution_count": 27,
      "outputs": [
        {
          "output_type": "stream",
          "name": "stdout",
          "text": [
            "my perplexity:              30987\n",
            "correct initial perplexity: 29794\n",
            "Passou o no assert da perplexidade\n"
          ]
        }
      ]
    },
    {
      "cell_type": "markdown",
      "source": [
        "## Laço de Treinamento e Validação"
      ],
      "metadata": {
        "id": "KiJtrsqPnE_l"
      }
    },
    {
      "cell_type": "code",
      "metadata": {
        "id": "zIMSaY-UUGUE",
        "colab": {
          "base_uri": "https://localhost:8080/"
        },
        "outputId": "2a99b5e2-dca1-4af4-d7a4-90eada536e91"
      },
      "source": [
        "model = LanguageModel(\n",
        "    vocab_size = tokenizer.vocab_size,\n",
        "    context_size = params['context_size'],\n",
        "    embedding_dim = params['embedding_dim'],\n",
        "    hidden_size = params['hidden_size'],\n",
        ").to(device)\n",
        "\n",
        "run['sys/tags'].add([f\"model:LanguageModelBengio\"])\n",
        "run['parameters'] = params\n",
        "\n",
        "train_loader = DataLoader(training_dataset, batch_size=params['batch_size'], shuffle=True, drop_last=True, num_workers=params['num_workers'])\n",
        "validation_loader = DataLoader(valid_dataset, batch_size=params['batch_size'], num_workers=params['num_workers'])\n",
        "\n",
        "lr=params['learning_rate']\n",
        "optimizer = torch.optim.Adam(model.parameters(), lr)\n",
        "\n",
        "def train_step(input, target):\n",
        "    model.train()\n",
        "    model.zero_grad()\n",
        "\n",
        "    logits = model(input.to(device))\n",
        "    loss = F.cross_entropy(logits, target.to(device))\n",
        "    loss.backward()\n",
        "    optimizer.step()\n",
        "\n",
        "    return loss.item()\n",
        "\n",
        "\n",
        "def validation_step(input, target):\n",
        "    logits = model(input)\n",
        "    loss = F.cross_entropy(logits, target)\n",
        "    return loss.item()\n",
        "\n",
        "\n",
        "n_examples = 0\n",
        "step = 0\n",
        "early_points = ''\n",
        "min_ppl = 999999\n",
        "while n_examples < params['max_examples'] and early_points != '******':\n",
        "    train_losses = []\n",
        "    for input, target in train_loader:\n",
        "        train_loss = train_step(input.to(device), target.to(device)) \n",
        "        train_losses.append(train_loss)\n",
        "        run['train/batch_loss'].log(train_loss)\n",
        "\n",
        "        \n",
        "        if step % params['eval_every_steps'] == 0:\n",
        "            train_ppl = np.exp(np.average(train_losses))\n",
        "            run['train/perplexity'].log(train_ppl)\n",
        "\n",
        "            valid_losses = []\n",
        "            with torch.no_grad():\n",
        "                for input, target in validation_loader:\n",
        "                    valid_loss = validation_step(input.to(device), target.to(device))\n",
        "                    valid_losses.append(valid_loss)\n",
        "                    run['valid/batch_loss'].log(valid_loss)\n",
        "                valid_ppl = np.exp(np.average(valid_losses))\n",
        "                run['valid/perplexity'].log(valid_ppl)\n",
        "\n",
        "            if min_ppl <= valid_ppl:\n",
        "                early_points += '*'\n",
        "                if early_points == '******':\n",
        "                    print('Early stop!')\n",
        "                    break\n",
        "                if early_points == '***':\n",
        "                    print('Decreasing the learning rate: ', lr, '-->', lr/10)\n",
        "                    lr /= 10\n",
        "                    optimizer = torch.optim.Adam(model.parameters(), lr)\n",
        "                    min_ppl = valid_ppl\n",
        "            else:\n",
        "                early_points = ''\n",
        "                min_ppl = valid_ppl\n",
        "\n",
        "            print(f'{step} steps; {n_examples} examples so far; train ppl: {train_ppl:.2f}, valid ppl: {valid_ppl:.2f}', early_points)\n",
        "\n",
        "        n_examples += len(input)  # Increment of batch size\n",
        "        step += 1\n",
        "        if n_examples >= params['max_examples']:\n",
        "            break"
      ],
      "execution_count": 28,
      "outputs": [
        {
          "output_type": "stream",
          "name": "stdout",
          "text": [
            "0 steps; 0 examples so far; train ppl: 31045.47, valid ppl: 30972.50 \n",
            "5000 steps; 319942 examples so far; train ppl: 6210.19, valid ppl: 2616.13 \n",
            "10000 steps; 639884 examples so far; train ppl: 3567.61, valid ppl: 2160.13 \n",
            "15000 steps; 959826 examples so far; train ppl: 1622.98, valid ppl: 1912.42 \n",
            "20000 steps; 1279768 examples so far; train ppl: 1549.50, valid ppl: 1771.53 \n",
            "25000 steps; 1599710 examples so far; train ppl: 1348.16, valid ppl: 1668.46 \n",
            "30000 steps; 1919652 examples so far; train ppl: 1317.67, valid ppl: 1596.51 \n",
            "35000 steps; 2239594 examples so far; train ppl: 1288.97, valid ppl: 1530.17 \n",
            "40000 steps; 2559536 examples so far; train ppl: 1169.68, valid ppl: 1479.05 \n",
            "45000 steps; 2879478 examples so far; train ppl: 1150.04, valid ppl: 1432.17 \n",
            "50000 steps; 3199420 examples so far; train ppl: 1051.04, valid ppl: 1389.14 \n",
            "55000 steps; 3519362 examples so far; train ppl: 1036.77, valid ppl: 1355.11 \n",
            "60000 steps; 3839304 examples so far; train ppl: 1024.16, valid ppl: 1314.69 \n",
            "65000 steps; 4159246 examples so far; train ppl: 942.01, valid ppl: 1283.76 \n",
            "70000 steps; 4479188 examples so far; train ppl: 937.37, valid ppl: 1253.69 \n",
            "75000 steps; 4799130 examples so far; train ppl: 877.11, valid ppl: 1226.43 \n",
            "80000 steps; 5119072 examples so far; train ppl: 869.08, valid ppl: 1202.72 \n",
            "85000 steps; 5439014 examples so far; train ppl: 807.53, valid ppl: 1176.40 \n",
            "90000 steps; 5758956 examples so far; train ppl: 806.65, valid ppl: 1159.73 \n",
            "95000 steps; 6078898 examples so far; train ppl: 801.06, valid ppl: 1136.54 \n",
            "100000 steps; 6398840 examples so far; train ppl: 756.21, valid ppl: 1119.34 \n",
            "105000 steps; 6718782 examples so far; train ppl: 752.02, valid ppl: 1099.49 \n",
            "110000 steps; 7038724 examples so far; train ppl: 703.81, valid ppl: 1081.84 \n",
            "115000 steps; 7358666 examples so far; train ppl: 700.67, valid ppl: 1068.90 \n",
            "120000 steps; 7678608 examples so far; train ppl: 699.66, valid ppl: 1051.06 \n",
            "125000 steps; 7998550 examples so far; train ppl: 666.19, valid ppl: 1038.36 \n",
            "130000 steps; 8318492 examples so far; train ppl: 659.30, valid ppl: 1027.04 \n",
            "135000 steps; 8638434 examples so far; train ppl: 622.92, valid ppl: 1012.20 \n",
            "140000 steps; 8958376 examples so far; train ppl: 622.00, valid ppl: 1000.98 \n",
            "145000 steps; 9278318 examples so far; train ppl: 607.16, valid ppl: 989.12 \n",
            "150000 steps; 9598260 examples so far; train ppl: 593.78, valid ppl: 978.71 \n",
            "155000 steps; 9918202 examples so far; train ppl: 591.76, valid ppl: 966.96 \n",
            "160000 steps; 10238144 examples so far; train ppl: 563.58, valid ppl: 957.62 \n",
            "165000 steps; 10558086 examples so far; train ppl: 561.66, valid ppl: 948.55 \n",
            "170000 steps; 10878028 examples so far; train ppl: 529.36, valid ppl: 938.38 \n",
            "175000 steps; 11197970 examples so far; train ppl: 537.05, valid ppl: 930.49 \n",
            "180000 steps; 11517912 examples so far; train ppl: 534.04, valid ppl: 921.67 \n",
            "185000 steps; 11837854 examples so far; train ppl: 512.98, valid ppl: 913.59 \n",
            "190000 steps; 12157796 examples so far; train ppl: 510.74, valid ppl: 906.92 \n",
            "195000 steps; 12477738 examples so far; train ppl: 484.79, valid ppl: 898.53 \n",
            "200000 steps; 12797680 examples so far; train ppl: 488.55, valid ppl: 892.45 \n",
            "205000 steps; 13117622 examples so far; train ppl: 466.65, valid ppl: 884.10 \n",
            "210000 steps; 13437564 examples so far; train ppl: 466.32, valid ppl: 881.19 \n",
            "215000 steps; 13757506 examples so far; train ppl: 467.59, valid ppl: 872.26 \n",
            "220000 steps; 14077448 examples so far; train ppl: 447.66, valid ppl: 867.70 \n",
            "225000 steps; 14397390 examples so far; train ppl: 448.13, valid ppl: 861.86 \n",
            "230000 steps; 14717332 examples so far; train ppl: 427.97, valid ppl: 855.38 \n",
            "235000 steps; 15037274 examples so far; train ppl: 431.67, valid ppl: 849.95 \n",
            "240000 steps; 15357216 examples so far; train ppl: 431.24, valid ppl: 844.70 \n",
            "245000 steps; 15677158 examples so far; train ppl: 416.60, valid ppl: 839.06 \n",
            "250000 steps; 15997100 examples so far; train ppl: 415.70, valid ppl: 834.25 \n",
            "255000 steps; 16317042 examples so far; train ppl: 403.68, valid ppl: 828.92 \n",
            "260000 steps; 16636984 examples so far; train ppl: 401.78, valid ppl: 824.90 \n",
            "265000 steps; 16956926 examples so far; train ppl: 378.81, valid ppl: 819.00 \n",
            "270000 steps; 17276868 examples so far; train ppl: 385.03, valid ppl: 815.24 \n",
            "275000 steps; 17596810 examples so far; train ppl: 385.59, valid ppl: 810.40 \n",
            "280000 steps; 17916752 examples so far; train ppl: 371.99, valid ppl: 807.64 \n",
            "285000 steps; 18236694 examples so far; train ppl: 374.05, valid ppl: 803.29 \n",
            "290000 steps; 18556636 examples so far; train ppl: 358.16, valid ppl: 799.23 \n",
            "295000 steps; 18876578 examples so far; train ppl: 358.65, valid ppl: 795.74 \n",
            "300000 steps; 19196520 examples so far; train ppl: 360.80, valid ppl: 791.13 \n",
            "305000 steps; 19516462 examples so far; train ppl: 347.97, valid ppl: 788.85 \n",
            "310000 steps; 19836404 examples so far; train ppl: 349.10, valid ppl: 785.73 \n",
            "315000 steps; 20156346 examples so far; train ppl: 338.34, valid ppl: 781.82 \n",
            "320000 steps; 20476288 examples so far; train ppl: 338.80, valid ppl: 779.71 \n",
            "325000 steps; 20796230 examples so far; train ppl: 330.34, valid ppl: 774.68 \n",
            "330000 steps; 21116172 examples so far; train ppl: 327.20, valid ppl: 773.21 \n",
            "335000 steps; 21436114 examples so far; train ppl: 327.69, valid ppl: 770.96 \n",
            "340000 steps; 21756056 examples so far; train ppl: 318.71, valid ppl: 767.02 \n",
            "345000 steps; 22075998 examples so far; train ppl: 318.77, valid ppl: 765.18 \n",
            "350000 steps; 22395940 examples so far; train ppl: 304.38, valid ppl: 761.79 \n",
            "355000 steps; 22715882 examples so far; train ppl: 307.91, valid ppl: 759.18 \n",
            "360000 steps; 23035824 examples so far; train ppl: 309.28, valid ppl: 755.88 \n",
            "365000 steps; 23355766 examples so far; train ppl: 297.74, valid ppl: 754.58 \n",
            "370000 steps; 23675708 examples so far; train ppl: 300.60, valid ppl: 751.02 \n",
            "375000 steps; 23995650 examples so far; train ppl: 289.85, valid ppl: 748.89 \n",
            "380000 steps; 24315592 examples so far; train ppl: 291.63, valid ppl: 747.59 \n",
            "385000 steps; 24635534 examples so far; train ppl: 283.60, valid ppl: 745.16 \n",
            "390000 steps; 24955476 examples so far; train ppl: 282.69, valid ppl: 742.51 \n",
            "395000 steps; 25275418 examples so far; train ppl: 284.48, valid ppl: 740.49 \n",
            "400000 steps; 25595360 examples so far; train ppl: 274.07, valid ppl: 739.80 \n",
            "405000 steps; 25915302 examples so far; train ppl: 276.62, valid ppl: 737.21 \n",
            "410000 steps; 26235244 examples so far; train ppl: 269.35, valid ppl: 736.62 \n",
            "415000 steps; 26555186 examples so far; train ppl: 269.53, valid ppl: 733.89 \n",
            "420000 steps; 26875128 examples so far; train ppl: 270.47, valid ppl: 731.08 \n",
            "425000 steps; 27195070 examples so far; train ppl: 264.31, valid ppl: 731.22 *\n",
            "430000 steps; 27515012 examples so far; train ppl: 264.33, valid ppl: 729.57 \n",
            "435000 steps; 27834954 examples so far; train ppl: 256.06, valid ppl: 727.49 \n",
            "440000 steps; 28154896 examples so far; train ppl: 257.59, valid ppl: 727.14 \n",
            "445000 steps; 28474838 examples so far; train ppl: 251.02, valid ppl: 724.48 \n",
            "450000 steps; 28794780 examples so far; train ppl: 249.67, valid ppl: 722.87 \n",
            "455000 steps; 29114722 examples so far; train ppl: 251.96, valid ppl: 721.00 \n",
            "460000 steps; 29434664 examples so far; train ppl: 242.88, valid ppl: 719.60 \n",
            "465000 steps; 29754606 examples so far; train ppl: 245.55, valid ppl: 718.28 \n",
            "470000 steps; 30074548 examples so far; train ppl: 239.67, valid ppl: 716.95 \n",
            "475000 steps; 30394490 examples so far; train ppl: 240.33, valid ppl: 716.04 \n",
            "480000 steps; 30714432 examples so far; train ppl: 240.94, valid ppl: 714.39 \n",
            "485000 steps; 31034374 examples so far; train ppl: 234.26, valid ppl: 714.06 \n",
            "490000 steps; 31354316 examples so far; train ppl: 235.10, valid ppl: 713.52 \n",
            "495000 steps; 31674258 examples so far; train ppl: 227.38, valid ppl: 711.89 \n",
            "500000 steps; 31994200 examples so far; train ppl: 230.41, valid ppl: 710.83 \n",
            "505000 steps; 32314142 examples so far; train ppl: 218.79, valid ppl: 709.19 \n",
            "510000 steps; 32634084 examples so far; train ppl: 224.59, valid ppl: 708.25 \n",
            "515000 steps; 32954026 examples so far; train ppl: 225.76, valid ppl: 707.51 \n",
            "520000 steps; 33273968 examples so far; train ppl: 217.28, valid ppl: 707.82 *\n",
            "525000 steps; 33593910 examples so far; train ppl: 220.48, valid ppl: 705.90 \n",
            "530000 steps; 33913852 examples so far; train ppl: 215.49, valid ppl: 704.74 \n",
            "535000 steps; 34233794 examples so far; train ppl: 216.42, valid ppl: 704.56 \n",
            "540000 steps; 34553736 examples so far; train ppl: 216.97, valid ppl: 704.03 \n",
            "545000 steps; 34873678 examples so far; train ppl: 212.15, valid ppl: 704.21 *\n",
            "550000 steps; 35193620 examples so far; train ppl: 212.52, valid ppl: 702.14 \n",
            "555000 steps; 35513562 examples so far; train ppl: 207.19, valid ppl: 702.13 \n",
            "560000 steps; 35833504 examples so far; train ppl: 207.05, valid ppl: 701.57 \n",
            "565000 steps; 36153446 examples so far; train ppl: 193.68, valid ppl: 701.32 \n",
            "570000 steps; 36473388 examples so far; train ppl: 202.56, valid ppl: 700.43 \n",
            "575000 steps; 36793330 examples so far; train ppl: 204.73, valid ppl: 698.82 \n",
            "580000 steps; 37113272 examples so far; train ppl: 197.82, valid ppl: 698.30 \n",
            "585000 steps; 37433214 examples so far; train ppl: 200.20, valid ppl: 697.70 \n",
            "590000 steps; 37753156 examples so far; train ppl: 195.17, valid ppl: 697.02 \n",
            "595000 steps; 38073098 examples so far; train ppl: 196.15, valid ppl: 697.56 *\n",
            "600000 steps; 38393040 examples so far; train ppl: 197.37, valid ppl: 696.82 \n",
            "605000 steps; 38712982 examples so far; train ppl: 191.93, valid ppl: 697.16 *\n",
            "610000 steps; 39032924 examples so far; train ppl: 193.27, valid ppl: 697.19 **\n",
            "615000 steps; 39352866 examples so far; train ppl: 187.84, valid ppl: 695.83 \n",
            "620000 steps; 39672808 examples so far; train ppl: 188.82, valid ppl: 695.44 \n",
            "625000 steps; 39992750 examples so far; train ppl: 181.25, valid ppl: 694.90 \n",
            "630000 steps; 40312692 examples so far; train ppl: 186.27, valid ppl: 694.92 *\n",
            "635000 steps; 40632634 examples so far; train ppl: 187.14, valid ppl: 693.92 \n",
            "640000 steps; 40952576 examples so far; train ppl: 182.45, valid ppl: 693.93 *\n",
            "645000 steps; 41272518 examples so far; train ppl: 183.02, valid ppl: 693.86 \n",
            "650000 steps; 41592460 examples so far; train ppl: 176.95, valid ppl: 693.17 \n",
            "655000 steps; 41912402 examples so far; train ppl: 179.10, valid ppl: 692.84 \n",
            "660000 steps; 42232344 examples so far; train ppl: 180.81, valid ppl: 692.53 \n",
            "665000 steps; 42552286 examples so far; train ppl: 177.02, valid ppl: 693.30 *\n",
            "670000 steps; 42872228 examples so far; train ppl: 178.37, valid ppl: 692.70 **\n",
            "Decreasing the learning rate:  3e-05 --> 3e-06\n",
            "675000 steps; 43192170 examples so far; train ppl: 171.39, valid ppl: 693.21 ***\n",
            "680000 steps; 43512112 examples so far; train ppl: 174.66, valid ppl: 695.47 ****\n",
            "685000 steps; 43832054 examples so far; train ppl: 171.04, valid ppl: 695.48 *****\n",
            "Early stop!\n"
          ]
        }
      ]
    },
    {
      "cell_type": "markdown",
      "source": [
        "## Avaliação final no dataset de teste\n",
        "\n",
        "\n",
        "Bonus: o modelo com menor perplexidade no dataset de testes ganhará 0.5 ponto na nota final."
      ],
      "metadata": {
        "id": "VgdNymJdNPXP"
      }
    },
    {
      "cell_type": "code",
      "metadata": {
        "id": "nxN5YytzZ7Tn",
        "colab": {
          "base_uri": "https://localhost:8080/"
        },
        "outputId": "47fcb804-cccd-4145-cd6f-c61a26f787b8"
      },
      "source": [
        "test_loader = DataLoader(test_dataset, batch_size=params['batch_size'])\n",
        "\n",
        "with torch.no_grad():\n",
        "    test_ppl = np.exp(np.average([\n",
        "        validation_step(input.to(device), target.to(device))\n",
        "        for input, target in test_loader\n",
        "    ]))\n",
        "\n",
        "print(f'test perplexity: {test_ppl}')"
      ],
      "execution_count": 29,
      "outputs": [
        {
          "output_type": "stream",
          "name": "stdout",
          "text": [
            "test perplexity: 678.1030127543705\n"
          ]
        }
      ]
    },
    {
      "cell_type": "markdown",
      "source": [
        "## Teste seu modelo com uma sentença\n",
        "\n",
        "Escolha uma sentença gerada pelo modelo que ache interessante."
      ],
      "metadata": {
        "id": "BHvEs8mPszy_"
      }
    },
    {
      "cell_type": "code",
      "source": [
        "prompt = 'Eu gosto de comer pizza pois me faz'\n",
        "max_output_tokens = 10\n",
        "\n",
        "for _ in range(max_output_tokens):\n",
        "    input_ids = tokenize(text=prompt, tokenizer=tokenizer)\n",
        "    input_ids_truncated = input_ids[-params['context_size']:]  # Usamos apenas os últimos <context_size> tokens como entrada para o modelo.\n",
        "    logits = model(torch.LongTensor([input_ids_truncated]).to(device))\n",
        "    # Ao usarmos o argmax, a saída do modelo em cada passo é token de maior probabilidade.\n",
        "    # Isso se chama decodificação gulosa (greedy decoding).\n",
        "    predicted_id = torch.argmax(logits).item()\n",
        "    input_ids += [predicted_id]  # Concatenamos a entrada com o token escolhido nesse passo.\n",
        "    prompt = tokenizer.decode(input_ids)\n",
        "    print(prompt)"
      ],
      "metadata": {
        "id": "-CFElf4tsytW",
        "colab": {
          "base_uri": "https://localhost:8080/"
        },
        "outputId": "581d1f77-392f-45c5-e0c9-9fdf62ede0cb"
      },
      "execution_count": 30,
      "outputs": [
        {
          "output_type": "stream",
          "name": "stdout",
          "text": [
            "Eu gosto de comer pizza pois me faz o\n",
            "Eu gosto de comer pizza pois me faz o que\n",
            "Eu gosto de comer pizza pois me faz o que a\n",
            "Eu gosto de comer pizza pois me faz o que a gente\n",
            "Eu gosto de comer pizza pois me faz o que a gente não\n",
            "Eu gosto de comer pizza pois me faz o que a gente não é\n",
            "Eu gosto de comer pizza pois me faz o que a gente não é o\n",
            "Eu gosto de comer pizza pois me faz o que a gente não é o que\n",
            "Eu gosto de comer pizza pois me faz o que a gente não é o que não\n",
            "Eu gosto de comer pizza pois me faz o que a gente não é o que não se\n"
          ]
        }
      ]
    },
    {
      "cell_type": "code",
      "source": [
        ""
      ],
      "metadata": {
        "id": "OaZovj4tpUl6"
      },
      "execution_count": null,
      "outputs": []
    }
  ]
}