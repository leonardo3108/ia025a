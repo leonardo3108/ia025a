{
  "nbformat": 4,
  "nbformat_minor": 0,
  "metadata": {
    "anaconda-cloud": {},
    "kernelspec": {
      "display_name": "Python 3",
      "language": "python",
      "name": "python3"
    },
    "language_info": {
      "codemirror_mode": {
        "name": "ipython",
        "version": 3
      },
      "file_extension": ".py",
      "mimetype": "text/x-python",
      "name": "python",
      "nbconvert_exporter": "python",
      "pygments_lexer": "ipython3",
      "version": "3.6.5"
    },
    "toc": {
      "nav_menu": {
        "height": "318px",
        "width": "252px"
      },
      "number_sections": true,
      "sideBar": true,
      "skip_h1_title": false,
      "toc_cell": false,
      "toc_position": {},
      "toc_section_display": "block",
      "toc_window_display": false
    },
    "colab": {
      "name": "Aula 6 - Exercício - Leonardo Pacheco",
      "provenance": [],
      "collapsed_sections": [],
      "include_colab_link": true
    },
    "accelerator": "GPU",
    "widgets": {
      "application/vnd.jupyter.widget-state+json": {
        "50c67f15ba4e4dc99ab37adf9db7d1b3": {
          "model_module": "@jupyter-widgets/controls",
          "model_name": "HBoxModel",
          "model_module_version": "1.5.0",
          "state": {
            "_dom_classes": [],
            "_model_module": "@jupyter-widgets/controls",
            "_model_module_version": "1.5.0",
            "_model_name": "HBoxModel",
            "_view_count": null,
            "_view_module": "@jupyter-widgets/controls",
            "_view_module_version": "1.5.0",
            "_view_name": "HBoxView",
            "box_style": "",
            "children": [
              "IPY_MODEL_73a49998584740848c4faf47ecdcda55",
              "IPY_MODEL_3c8429770c7c45dabc7da7972794efa1",
              "IPY_MODEL_2a1c28d146934e5aa25bee8d7cc53107"
            ],
            "layout": "IPY_MODEL_fec9096528d2419d84fa75a128182032"
          }
        },
        "73a49998584740848c4faf47ecdcda55": {
          "model_module": "@jupyter-widgets/controls",
          "model_name": "HTMLModel",
          "model_module_version": "1.5.0",
          "state": {
            "_dom_classes": [],
            "_model_module": "@jupyter-widgets/controls",
            "_model_module_version": "1.5.0",
            "_model_name": "HTMLModel",
            "_view_count": null,
            "_view_module": "@jupyter-widgets/controls",
            "_view_module_version": "1.5.0",
            "_view_name": "HTMLView",
            "description": "",
            "description_tooltip": null,
            "layout": "IPY_MODEL_e8246624044747f7afd35c395d659b07",
            "placeholder": "​",
            "style": "IPY_MODEL_00cabdb398c94ee78e1cabc0b8407d2b",
            "value": ""
          }
        },
        "3c8429770c7c45dabc7da7972794efa1": {
          "model_module": "@jupyter-widgets/controls",
          "model_name": "FloatProgressModel",
          "model_module_version": "1.5.0",
          "state": {
            "_dom_classes": [],
            "_model_module": "@jupyter-widgets/controls",
            "_model_module_version": "1.5.0",
            "_model_name": "FloatProgressModel",
            "_view_count": null,
            "_view_module": "@jupyter-widgets/controls",
            "_view_module_version": "1.5.0",
            "_view_name": "ProgressView",
            "bar_style": "success",
            "description": "",
            "description_tooltip": null,
            "layout": "IPY_MODEL_a33a024c31c6450cb83255f5255917fd",
            "max": 170498071,
            "min": 0,
            "orientation": "horizontal",
            "style": "IPY_MODEL_52148b3649aa47f0b4b697f7635c3c61",
            "value": 170498071
          }
        },
        "2a1c28d146934e5aa25bee8d7cc53107": {
          "model_module": "@jupyter-widgets/controls",
          "model_name": "HTMLModel",
          "model_module_version": "1.5.0",
          "state": {
            "_dom_classes": [],
            "_model_module": "@jupyter-widgets/controls",
            "_model_module_version": "1.5.0",
            "_model_name": "HTMLModel",
            "_view_count": null,
            "_view_module": "@jupyter-widgets/controls",
            "_view_module_version": "1.5.0",
            "_view_name": "HTMLView",
            "description": "",
            "description_tooltip": null,
            "layout": "IPY_MODEL_c23358c17e2d4df09ce6c6b6542a2bc7",
            "placeholder": "​",
            "style": "IPY_MODEL_184d50717e1d4109bfca96633b5fcb7f",
            "value": " 170499072/? [00:02&lt;00:00, 88882726.83it/s]"
          }
        },
        "fec9096528d2419d84fa75a128182032": {
          "model_module": "@jupyter-widgets/base",
          "model_name": "LayoutModel",
          "model_module_version": "1.2.0",
          "state": {
            "_model_module": "@jupyter-widgets/base",
            "_model_module_version": "1.2.0",
            "_model_name": "LayoutModel",
            "_view_count": null,
            "_view_module": "@jupyter-widgets/base",
            "_view_module_version": "1.2.0",
            "_view_name": "LayoutView",
            "align_content": null,
            "align_items": null,
            "align_self": null,
            "border": null,
            "bottom": null,
            "display": null,
            "flex": null,
            "flex_flow": null,
            "grid_area": null,
            "grid_auto_columns": null,
            "grid_auto_flow": null,
            "grid_auto_rows": null,
            "grid_column": null,
            "grid_gap": null,
            "grid_row": null,
            "grid_template_areas": null,
            "grid_template_columns": null,
            "grid_template_rows": null,
            "height": null,
            "justify_content": null,
            "justify_items": null,
            "left": null,
            "margin": null,
            "max_height": null,
            "max_width": null,
            "min_height": null,
            "min_width": null,
            "object_fit": null,
            "object_position": null,
            "order": null,
            "overflow": null,
            "overflow_x": null,
            "overflow_y": null,
            "padding": null,
            "right": null,
            "top": null,
            "visibility": null,
            "width": null
          }
        },
        "e8246624044747f7afd35c395d659b07": {
          "model_module": "@jupyter-widgets/base",
          "model_name": "LayoutModel",
          "model_module_version": "1.2.0",
          "state": {
            "_model_module": "@jupyter-widgets/base",
            "_model_module_version": "1.2.0",
            "_model_name": "LayoutModel",
            "_view_count": null,
            "_view_module": "@jupyter-widgets/base",
            "_view_module_version": "1.2.0",
            "_view_name": "LayoutView",
            "align_content": null,
            "align_items": null,
            "align_self": null,
            "border": null,
            "bottom": null,
            "display": null,
            "flex": null,
            "flex_flow": null,
            "grid_area": null,
            "grid_auto_columns": null,
            "grid_auto_flow": null,
            "grid_auto_rows": null,
            "grid_column": null,
            "grid_gap": null,
            "grid_row": null,
            "grid_template_areas": null,
            "grid_template_columns": null,
            "grid_template_rows": null,
            "height": null,
            "justify_content": null,
            "justify_items": null,
            "left": null,
            "margin": null,
            "max_height": null,
            "max_width": null,
            "min_height": null,
            "min_width": null,
            "object_fit": null,
            "object_position": null,
            "order": null,
            "overflow": null,
            "overflow_x": null,
            "overflow_y": null,
            "padding": null,
            "right": null,
            "top": null,
            "visibility": null,
            "width": null
          }
        },
        "00cabdb398c94ee78e1cabc0b8407d2b": {
          "model_module": "@jupyter-widgets/controls",
          "model_name": "DescriptionStyleModel",
          "model_module_version": "1.5.0",
          "state": {
            "_model_module": "@jupyter-widgets/controls",
            "_model_module_version": "1.5.0",
            "_model_name": "DescriptionStyleModel",
            "_view_count": null,
            "_view_module": "@jupyter-widgets/base",
            "_view_module_version": "1.2.0",
            "_view_name": "StyleView",
            "description_width": ""
          }
        },
        "a33a024c31c6450cb83255f5255917fd": {
          "model_module": "@jupyter-widgets/base",
          "model_name": "LayoutModel",
          "model_module_version": "1.2.0",
          "state": {
            "_model_module": "@jupyter-widgets/base",
            "_model_module_version": "1.2.0",
            "_model_name": "LayoutModel",
            "_view_count": null,
            "_view_module": "@jupyter-widgets/base",
            "_view_module_version": "1.2.0",
            "_view_name": "LayoutView",
            "align_content": null,
            "align_items": null,
            "align_self": null,
            "border": null,
            "bottom": null,
            "display": null,
            "flex": null,
            "flex_flow": null,
            "grid_area": null,
            "grid_auto_columns": null,
            "grid_auto_flow": null,
            "grid_auto_rows": null,
            "grid_column": null,
            "grid_gap": null,
            "grid_row": null,
            "grid_template_areas": null,
            "grid_template_columns": null,
            "grid_template_rows": null,
            "height": null,
            "justify_content": null,
            "justify_items": null,
            "left": null,
            "margin": null,
            "max_height": null,
            "max_width": null,
            "min_height": null,
            "min_width": null,
            "object_fit": null,
            "object_position": null,
            "order": null,
            "overflow": null,
            "overflow_x": null,
            "overflow_y": null,
            "padding": null,
            "right": null,
            "top": null,
            "visibility": null,
            "width": null
          }
        },
        "52148b3649aa47f0b4b697f7635c3c61": {
          "model_module": "@jupyter-widgets/controls",
          "model_name": "ProgressStyleModel",
          "model_module_version": "1.5.0",
          "state": {
            "_model_module": "@jupyter-widgets/controls",
            "_model_module_version": "1.5.0",
            "_model_name": "ProgressStyleModel",
            "_view_count": null,
            "_view_module": "@jupyter-widgets/base",
            "_view_module_version": "1.2.0",
            "_view_name": "StyleView",
            "bar_color": null,
            "description_width": ""
          }
        },
        "c23358c17e2d4df09ce6c6b6542a2bc7": {
          "model_module": "@jupyter-widgets/base",
          "model_name": "LayoutModel",
          "model_module_version": "1.2.0",
          "state": {
            "_model_module": "@jupyter-widgets/base",
            "_model_module_version": "1.2.0",
            "_model_name": "LayoutModel",
            "_view_count": null,
            "_view_module": "@jupyter-widgets/base",
            "_view_module_version": "1.2.0",
            "_view_name": "LayoutView",
            "align_content": null,
            "align_items": null,
            "align_self": null,
            "border": null,
            "bottom": null,
            "display": null,
            "flex": null,
            "flex_flow": null,
            "grid_area": null,
            "grid_auto_columns": null,
            "grid_auto_flow": null,
            "grid_auto_rows": null,
            "grid_column": null,
            "grid_gap": null,
            "grid_row": null,
            "grid_template_areas": null,
            "grid_template_columns": null,
            "grid_template_rows": null,
            "height": null,
            "justify_content": null,
            "justify_items": null,
            "left": null,
            "margin": null,
            "max_height": null,
            "max_width": null,
            "min_height": null,
            "min_width": null,
            "object_fit": null,
            "object_position": null,
            "order": null,
            "overflow": null,
            "overflow_x": null,
            "overflow_y": null,
            "padding": null,
            "right": null,
            "top": null,
            "visibility": null,
            "width": null
          }
        },
        "184d50717e1d4109bfca96633b5fcb7f": {
          "model_module": "@jupyter-widgets/controls",
          "model_name": "DescriptionStyleModel",
          "model_module_version": "1.5.0",
          "state": {
            "_model_module": "@jupyter-widgets/controls",
            "_model_module_version": "1.5.0",
            "_model_name": "DescriptionStyleModel",
            "_view_count": null,
            "_view_module": "@jupyter-widgets/base",
            "_view_module_version": "1.2.0",
            "_view_name": "StyleView",
            "description_width": ""
          }
        }
      }
    }
  },
  "cells": [
    {
      "cell_type": "markdown",
      "metadata": {
        "id": "view-in-github",
        "colab_type": "text"
      },
      "source": [
        "<a href=\"https://colab.research.google.com/github/leonardo3108/ia025a/blob/main/Exercicios/Aula_6_Exerc%C3%ADcio_ResNet_Dropout.ipynb\" target=\"_parent\"><img src=\"https://colab.research.google.com/assets/colab-badge.svg\" alt=\"Open In Colab\"/></a>"
      ]
    },
    {
      "cell_type": "markdown",
      "source": [
        "# Treinamento de uma CNN no CIFAR 10"
      ],
      "metadata": {
        "id": "iElOLxevKJJy"
      }
    },
    {
      "cell_type": "code",
      "source": [
        "nome = 'Leonardo Augusto da Silva Pacheco'\n",
        "\n",
        "print(f'Meu nome é {nome}.')"
      ],
      "metadata": {
        "id": "CdORg7oe68oq",
        "colab": {
          "base_uri": "https://localhost:8080/"
        },
        "outputId": "40ca576a-ae50-4b79-a783-b247c97eb053"
      },
      "execution_count": 1,
      "outputs": [
        {
          "output_type": "stream",
          "name": "stdout",
          "text": [
            "Meu nome é Leonardo Augusto da Silva Pacheco.\n"
          ]
        }
      ]
    },
    {
      "cell_type": "markdown",
      "metadata": {
        "id": "WkfGTqMVQT1u"
      },
      "source": [
        "Este exercicío consiste em implementar e treinar no CIFAR-10 vários blocos de uma Resnet seguido de uma camada linear de classificação."
      ]
    },
    {
      "cell_type": "markdown",
      "metadata": {
        "id": "wFNf4RPxQT1w"
      },
      "source": [
        "## Importação das bibliotecas"
      ]
    },
    {
      "cell_type": "code",
      "metadata": {
        "ExecuteTime": {
          "end_time": "2018-08-21T14:08:14.033692Z",
          "start_time": "2018-08-21T14:08:11.179981Z"
        },
        "id": "-fLUSHaCQT1x"
      },
      "source": [
        "%matplotlib inline\n",
        "import numpy as np\n",
        "import matplotlib.pyplot as plt\n",
        "import random\n",
        "import torch\n",
        "import torchvision\n",
        "from torch.utils.data import DataLoader\n",
        "from torchvision.datasets import MNIST"
      ],
      "execution_count": 2,
      "outputs": []
    },
    {
      "cell_type": "markdown",
      "source": [
        "## Fixando as seeds"
      ],
      "metadata": {
        "id": "7_Po22b5ykhK"
      }
    },
    {
      "cell_type": "code",
      "source": [
        "random.seed(123)\n",
        "np.random.seed(123)\n",
        "torch.manual_seed(123)"
      ],
      "metadata": {
        "id": "y-7WWWgLyoRq",
        "colab": {
          "base_uri": "https://localhost:8080/"
        },
        "outputId": "5c0e7f93-ec54-43ba-b698-c45b5f001181"
      },
      "execution_count": 3,
      "outputs": [
        {
          "output_type": "execute_result",
          "data": {
            "text/plain": [
              "<torch._C.Generator at 0x7f9a9a2fba30>"
            ]
          },
          "metadata": {},
          "execution_count": 3
        }
      ]
    },
    {
      "cell_type": "markdown",
      "metadata": {
        "id": "jEMUsfJpQT11"
      },
      "source": [
        "## Dataset e dataloader"
      ]
    },
    {
      "cell_type": "markdown",
      "metadata": {
        "id": "vHoQjDs_QT12"
      },
      "source": [
        "### Definição do tamanho do minibatch"
      ]
    },
    {
      "cell_type": "code",
      "metadata": {
        "ExecuteTime": {
          "end_time": "2018-08-21T14:08:20.282474Z",
          "start_time": "2018-08-21T14:08:20.275450Z"
        },
        "id": "tEQYUr4TQT13"
      },
      "source": [
        "batch_size = 50"
      ],
      "execution_count": 4,
      "outputs": []
    },
    {
      "cell_type": "markdown",
      "metadata": {
        "id": "dc7Rv_2BQT16"
      },
      "source": [
        "## Download do CIFAR-10"
      ]
    },
    {
      "cell_type": "code",
      "metadata": {
        "id": "TRgD9zSDMBc4",
        "colab": {
          "base_uri": "https://localhost:8080/",
          "height": 101,
          "referenced_widgets": [
            "50c67f15ba4e4dc99ab37adf9db7d1b3",
            "73a49998584740848c4faf47ecdcda55",
            "3c8429770c7c45dabc7da7972794efa1",
            "2a1c28d146934e5aa25bee8d7cc53107",
            "fec9096528d2419d84fa75a128182032",
            "e8246624044747f7afd35c395d659b07",
            "00cabdb398c94ee78e1cabc0b8407d2b",
            "a33a024c31c6450cb83255f5255917fd",
            "52148b3649aa47f0b4b697f7635c3c61",
            "c23358c17e2d4df09ce6c6b6542a2bc7",
            "184d50717e1d4109bfca96633b5fcb7f"
          ]
        },
        "outputId": "34f4f706-3f68-4399-e896-810225defe88"
      },
      "source": [
        "!mkdir ./data\n",
        "\n",
        "transform = torchvision.transforms.Compose(\n",
        "    [torchvision.transforms.ToTensor(),\n",
        "     torchvision.transforms.Normalize((0.5, 0.5, 0.5), (0.5, 0.5, 0.5))])\n",
        "\n",
        "train_dataset = torchvision.datasets.CIFAR10(root='./data', train=True, download=True, transform=transform)\n",
        "\n",
        "test_dataset = torchvision.datasets.CIFAR10(root='./data', train=False, download=True, transform=transform)\n"
      ],
      "execution_count": 5,
      "outputs": [
        {
          "output_type": "stream",
          "name": "stdout",
          "text": [
            "Downloading https://www.cs.toronto.edu/~kriz/cifar-10-python.tar.gz to ./data/cifar-10-python.tar.gz\n"
          ]
        },
        {
          "output_type": "display_data",
          "data": {
            "text/plain": [
              "  0%|          | 0/170498071 [00:00<?, ?it/s]"
            ],
            "application/vnd.jupyter.widget-view+json": {
              "version_major": 2,
              "version_minor": 0,
              "model_id": "50c67f15ba4e4dc99ab37adf9db7d1b3"
            }
          },
          "metadata": {}
        },
        {
          "output_type": "stream",
          "name": "stdout",
          "text": [
            "Extracting ./data/cifar-10-python.tar.gz to ./data\n",
            "Files already downloaded and verified\n"
          ]
        }
      ]
    },
    {
      "cell_type": "markdown",
      "metadata": {
        "id": "CKjEufC1MdvP"
      },
      "source": [
        "## Criação do dataloader"
      ]
    },
    {
      "cell_type": "code",
      "metadata": {
        "id": "K9sXttHBTzCM"
      },
      "source": [
        "train_size = 40000\n",
        "val_size = 10000\n",
        "train_dataset, val_dataset = torch.utils.data.random_split(train_dataset, [train_size, val_size])"
      ],
      "execution_count": 6,
      "outputs": []
    },
    {
      "cell_type": "code",
      "metadata": {
        "id": "80JCOzh7MdvQ",
        "colab": {
          "base_uri": "https://localhost:8080/"
        },
        "outputId": "135ba8c7-94fc-4bb6-a720-e034e05bc267"
      },
      "source": [
        "batch_size = 50\n",
        "\n",
        "train_dataloader = DataLoader(train_dataset, batch_size=batch_size, shuffle=True)\n",
        "val_dataloader = DataLoader(val_dataset, batch_size=batch_size, shuffle=False)\n",
        "test_dataloader = DataLoader(test_dataset, batch_size=batch_size, shuffle=False)\n",
        "\n",
        "print('Número de minibatches de trenamento:', len(train_dataloader))\n",
        "print('Número de minibatches de validação:', len(val_dataloader))\n",
        "print('Número de minibatches de teste:', len(test_dataloader))\n",
        "\n",
        "x_train, y_train = next(iter(train_dataloader))\n",
        "print(\"\\nDimensões dos dados de um minibatch:\", x_train.size())\n",
        "print(\"Valores mínimo e máximo dos pixels: \", torch.min(x_train), torch.max(x_train))\n",
        "print(\"Tipo dos dados das imagens:         \", type(x_train))\n",
        "print(\"Tipo das classes das imagens:       \", type(y_train))"
      ],
      "execution_count": 7,
      "outputs": [
        {
          "output_type": "stream",
          "name": "stdout",
          "text": [
            "Número de minibatches de trenamento: 800\n",
            "Número de minibatches de validação: 200\n",
            "Número de minibatches de teste: 200\n",
            "\n",
            "Dimensões dos dados de um minibatch: torch.Size([50, 3, 32, 32])\n",
            "Valores mínimo e máximo dos pixels:  tensor(-1.) tensor(1.)\n",
            "Tipo dos dados das imagens:          <class 'torch.Tensor'>\n",
            "Tipo das classes das imagens:        <class 'torch.Tensor'>\n"
          ]
        }
      ]
    },
    {
      "cell_type": "markdown",
      "source": [
        "## Implementando o Bloco Básico da Resnet"
      ],
      "metadata": {
        "id": "g-kdiLu_SM_2"
      }
    },
    {
      "cell_type": "markdown",
      "source": [
        "![Captura de Tela 2022-05-04 às 14.55.34.png](data:image/png;base64,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)"
      ],
      "metadata": {
        "id": "bfdeGBNfNvWe"
      }
    },
    {
      "cell_type": "code",
      "source": [
        "from torch import nn\n",
        "from torch import Tensor\n",
        "from torch.nn import Conv2d, BatchNorm2d, ReLU\n",
        "\n",
        "class MyBasicBlock(nn.Module):\n",
        "\n",
        "    def __init__(\n",
        "        self,\n",
        "        inplanes: int,\n",
        "        planes: int,\n",
        "        stride: int = 1,\n",
        "    ) -> None:\n",
        "        super().__init__()\n",
        "        # Escreva seu código aqui.\n",
        "        self.downsample = Conv2d(inplanes, planes, kernel_size=1, stride=stride, padding=0, groups=1, bias=False, dilation=1)\n",
        "        self.conv1 = Conv2d(inplanes, planes, kernel_size=3, stride=stride, bias=False, padding=1)\n",
        "        self.bn1 = BatchNorm2d(planes)\n",
        "        self.conv2 = Conv2d(planes, planes, kernel_size=3, stride=1, bias=False, padding=1)\n",
        "        self.bn2 = BatchNorm2d(planes)\n",
        "        self.reLU = ReLU()\n",
        "        \n",
        "    def forward(self, x: Tensor) -> Tensor:\n",
        "        # Escreva seu código aqui.\n",
        "        out = self.conv1(x)\n",
        "        out = self.bn1(out)\n",
        "        out = self.reLU(out)\n",
        "        out = self.conv2(out)\n",
        "        out = self.bn2(out)\n",
        "        out += self.downsample(x)\n",
        "        out = self.reLU(out)\n",
        "        return out"
      ],
      "metadata": {
        "id": "8nPklpkxSQpR"
      },
      "execution_count": 8,
      "outputs": []
    },
    {
      "cell_type": "markdown",
      "source": [
        "## Compare se sua implementação está igual à do pytorch usando um exemplo aleatório"
      ],
      "metadata": {
        "id": "cUpvt6G5b3aL"
      }
    },
    {
      "cell_type": "code",
      "source": [
        "import torchvision\n",
        "\n",
        "height_in = 5\n",
        "width_in = 5\n",
        "inplanes = 2\n",
        "planes = 3\n",
        "stride = 2\n",
        "\n",
        "x = torch.rand(1, inplanes, height_in, width_in)\n",
        "\n",
        "block = MyBasicBlock(inplanes=inplanes, planes=planes, stride=stride)\n",
        "\n",
        "downsample = nn.Conv2d(inplanes, planes, kernel_size=1, stride=stride, padding=0, groups=1, bias=False, dilation=1)\n",
        "\n",
        "block_pt = torchvision.models.resnet.BasicBlock(inplanes=inplanes, planes=planes, stride=stride, downsample=downsample)\n",
        "\n",
        "# Usa os mesmos pesos para minha implementação e a do pytorch\n",
        "block.load_state_dict(block_pt.state_dict())\n",
        "\n",
        "out = block(x)\n",
        "target_out = block_pt(x)\n",
        "\n",
        "print(f'out:\\n{out}')\n",
        "print(f'target_out:\\n{target_out}')\n",
        "\n",
        "assert torch.allclose(out, target_out, atol=1e-6)"
      ],
      "metadata": {
        "id": "dmXEL5xLbSzS",
        "colab": {
          "base_uri": "https://localhost:8080/"
        },
        "outputId": "964a7b63-11a2-41d0-b1fe-cf96b8a516f9"
      },
      "execution_count": 9,
      "outputs": [
        {
          "output_type": "stream",
          "name": "stdout",
          "text": [
            "out:\n",
            "tensor([[[[0.2084, 0.0000, 0.1053],\n",
            "          [1.2176, 1.7145, 0.0000],\n",
            "          [2.1509, 0.0000, 0.0000]],\n",
            "\n",
            "         [[0.0000, 1.4478, 0.0000],\n",
            "          [0.0000, 0.0000, 0.0000],\n",
            "          [0.6579, 0.5231, 0.0000]],\n",
            "\n",
            "         [[0.0000, 0.8983, 1.1205],\n",
            "          [0.0000, 0.0000, 0.0225],\n",
            "          [0.0000, 0.8017, 0.5681]]]], grad_fn=<ReluBackward0>)\n",
            "target_out:\n",
            "tensor([[[[0.2084, 0.0000, 0.1053],\n",
            "          [1.2176, 1.7145, 0.0000],\n",
            "          [2.1509, 0.0000, 0.0000]],\n",
            "\n",
            "         [[0.0000, 1.4478, 0.0000],\n",
            "          [0.0000, 0.0000, 0.0000],\n",
            "          [0.6579, 0.5231, 0.0000]],\n",
            "\n",
            "         [[0.0000, 0.8983, 1.1205],\n",
            "          [0.0000, 0.0000, 0.0225],\n",
            "          [0.0000, 0.8017, 0.5681]]]], grad_fn=<ReluBackward0>)\n"
          ]
        }
      ]
    },
    {
      "cell_type": "markdown",
      "metadata": {
        "id": "BQA9Zg7GQT2G"
      },
      "source": [
        "## Modelo\n",
        "\n",
        "Implemente um modelo de classificação que será treinado no CIFAR-10."
      ]
    },
    {
      "cell_type": "code",
      "metadata": {
        "ExecuteTime": {
          "end_time": "2018-08-20T21:03:10.802708Z",
          "start_time": "2018-08-20T21:03:10.793287Z"
        },
        "id": "_8Eg4h_kQT2H"
      },
      "source": [
        "from torch.nn import Linear, MaxPool2d\n",
        "\n",
        "class Net(torch.nn.Module):\n",
        "    def __init__(self, ):\n",
        "        super(Net, self).__init__()\n",
        "        # Escreva seu código aqui.\n",
        "        self.basic1 = MyBasicBlock(inplanes=3, planes=32)\n",
        "        self.basic2 = MyBasicBlock(inplanes=32, planes=64)\n",
        "        self.flatten = nn.Flatten()\n",
        "        self.dense = Linear(64 * 3 * 3, 10)\n",
        "        self.pooling = nn.MaxPool2d(3,3)\n",
        "\n",
        "    def forward(self, x):\n",
        "        # Escreva seu código aqui.\n",
        "        out = self.basic1(x)\n",
        "        out = self.pooling(out)\n",
        "        out = self.basic2(out)\n",
        "        out = self.pooling(out)\n",
        "        out = self.flatten(out)\n",
        "        #print('out', out.shape)\n",
        "        logits = self.dense(out)\n",
        "        return logits"
      ],
      "execution_count": 11,
      "outputs": []
    },
    {
      "cell_type": "markdown",
      "metadata": {
        "id": "0NHQB4wGQT2K"
      },
      "source": [
        "## Treinamento"
      ]
    },
    {
      "cell_type": "markdown",
      "metadata": {
        "id": "nqs2JhJoQT2L"
      },
      "source": [
        "### Definição dos hiperparâmetros"
      ]
    },
    {
      "cell_type": "code",
      "metadata": {
        "ExecuteTime": {
          "end_time": "2018-08-20T21:03:14.146259Z",
          "start_time": "2018-08-20T21:03:14.139515Z"
        },
        "id": "oZuYEkn_QT2M"
      },
      "source": [
        "n_epochs = 20\n",
        "lr = 0.01"
      ],
      "execution_count": 12,
      "outputs": []
    },
    {
      "cell_type": "markdown",
      "source": [
        "### Detectando a GPU"
      ],
      "metadata": {
        "id": "xJ2f5CLLvcPn"
      }
    },
    {
      "cell_type": "code",
      "source": [
        "device = torch.device('cuda' if torch.cuda.is_available() else 'cpu')"
      ],
      "metadata": {
        "id": "Sfm3nnALvfET"
      },
      "execution_count": 13,
      "outputs": []
    },
    {
      "cell_type": "code",
      "source": [
        "def evaluation(model, loader):\n",
        "    # Escreva seu código aqui.\n",
        "    model.eval()\n",
        "    corrects = 0\n",
        "    total = 0\n",
        "    for x, y in tqdm(train_dataloader, total=len(train_dataloader), desc='Evaluating'):\n",
        "      x = x.to(device)\n",
        "      y = y.to(device)\n",
        "      #print('x', x.shape, '     y', y.shape)\n",
        "      y_pred = model(x).argmax(dim=1)\n",
        "      #print('y_pred', y_pred.shape)\n",
        "      corrects += (y == y_pred).sum().item()\n",
        "      total += len(y)          \n",
        "    mean_accuracy = corrects/total\n",
        "\n",
        "    print(f'Accuracy: {mean_accuracy}')"
      ],
      "metadata": {
        "id": "3CaFvrKRh3L7"
      },
      "execution_count": 14,
      "outputs": []
    },
    {
      "cell_type": "markdown",
      "metadata": {
        "id": "pmXarXeIQT2O"
      },
      "source": [
        "### Laço de treinamento"
      ]
    },
    {
      "cell_type": "code",
      "metadata": {
        "ExecuteTime": {
          "end_time": "2018-08-20T21:03:40.796410Z",
          "start_time": "2018-08-20T21:03:39.771981Z"
        },
        "id": "L5T_jZZPQT2P",
        "colab": {
          "base_uri": "https://localhost:8080/"
        },
        "outputId": "147b2299-7a20-425e-87f2-6de7168f2b2c"
      },
      "source": [
        "from tqdm import tqdm\n",
        "\n",
        "\n",
        "model = Net()\n",
        "\n",
        "model.to(device)\n",
        "criterion = torch.nn.CrossEntropyLoss()\n",
        "optimizer = torch.optim.SGD(model.parameters(), lr)\n",
        "\n",
        "epochs = []\n",
        "loss_history = []\n",
        "loss_epoch_end = []\n",
        "total_trained_samples = 0\n",
        "\n",
        "# Primeira avaliação com pesos aleatórios\n",
        "evaluation(model=model, loader=val_dataloader)\n",
        "\n",
        "for i in range(n_epochs):\n",
        "    model.train()\n",
        "    for x_train, y_train in tqdm(train_dataloader, total=len(train_dataloader), desc='Training'):\n",
        "        x_train = x_train.to(device)\n",
        "        y_train = y_train.to(device)\n",
        "\n",
        "        # predict da rede\n",
        "        outputs = model(x_train)\n",
        "\n",
        "        # calcula a perda\n",
        "        loss = criterion(outputs, y_train)\n",
        "\n",
        "        # zero, backpropagation, ajusta parâmetros pelo gradiente descendente\n",
        "        optimizer.zero_grad()\n",
        "        loss.backward()\n",
        "        optimizer.step()\n",
        "\n",
        "        total_trained_samples += x_train.size(0)\n",
        "        epochs.append(total_trained_samples / len(train_dataset))\n",
        "        loss_history.append(loss.item())\n",
        "\n",
        "    loss_epoch_end.append(loss.item())\n",
        "    print(f'Epoch: {i:d}/{n_epochs - 1:d} Loss: {loss.item()}')\n",
        "\n",
        "    # Chama a função de validação no final de cada época\n",
        "    evaluation(model=model, loader=val_dataloader)"
      ],
      "execution_count": 15,
      "outputs": [
        {
          "output_type": "stream",
          "name": "stderr",
          "text": [
            "Evaluating: 100%|██████████| 800/800 [00:09<00:00, 82.92it/s]\n"
          ]
        },
        {
          "output_type": "stream",
          "name": "stdout",
          "text": [
            "Accuracy: 0.126925\n"
          ]
        },
        {
          "output_type": "stream",
          "name": "stderr",
          "text": [
            "Training: 100%|██████████| 800/800 [00:13<00:00, 58.19it/s]\n"
          ]
        },
        {
          "output_type": "stream",
          "name": "stdout",
          "text": [
            "Epoch: 0/19 Loss: 0.9579715132713318\n"
          ]
        },
        {
          "output_type": "stream",
          "name": "stderr",
          "text": [
            "Evaluating: 100%|██████████| 800/800 [00:09<00:00, 84.92it/s]\n"
          ]
        },
        {
          "output_type": "stream",
          "name": "stdout",
          "text": [
            "Accuracy: 0.6254\n"
          ]
        },
        {
          "output_type": "stream",
          "name": "stderr",
          "text": [
            "Training: 100%|██████████| 800/800 [00:13<00:00, 60.51it/s]\n"
          ]
        },
        {
          "output_type": "stream",
          "name": "stdout",
          "text": [
            "Epoch: 1/19 Loss: 0.8210280537605286\n"
          ]
        },
        {
          "output_type": "stream",
          "name": "stderr",
          "text": [
            "Evaluating: 100%|██████████| 800/800 [00:10<00:00, 73.35it/s]\n"
          ]
        },
        {
          "output_type": "stream",
          "name": "stdout",
          "text": [
            "Accuracy: 0.68845\n"
          ]
        },
        {
          "output_type": "stream",
          "name": "stderr",
          "text": [
            "Training: 100%|██████████| 800/800 [00:14<00:00, 53.95it/s]\n"
          ]
        },
        {
          "output_type": "stream",
          "name": "stdout",
          "text": [
            "Epoch: 2/19 Loss: 0.784546971321106\n"
          ]
        },
        {
          "output_type": "stream",
          "name": "stderr",
          "text": [
            "Evaluating: 100%|██████████| 800/800 [00:09<00:00, 80.60it/s]\n"
          ]
        },
        {
          "output_type": "stream",
          "name": "stdout",
          "text": [
            "Accuracy: 0.73385\n"
          ]
        },
        {
          "output_type": "stream",
          "name": "stderr",
          "text": [
            "Training: 100%|██████████| 800/800 [00:13<00:00, 59.76it/s]\n"
          ]
        },
        {
          "output_type": "stream",
          "name": "stdout",
          "text": [
            "Epoch: 3/19 Loss: 0.6622940301895142\n"
          ]
        },
        {
          "output_type": "stream",
          "name": "stderr",
          "text": [
            "Evaluating: 100%|██████████| 800/800 [00:09<00:00, 80.68it/s]\n"
          ]
        },
        {
          "output_type": "stream",
          "name": "stdout",
          "text": [
            "Accuracy: 0.767825\n"
          ]
        },
        {
          "output_type": "stream",
          "name": "stderr",
          "text": [
            "Training: 100%|██████████| 800/800 [00:14<00:00, 55.54it/s]\n"
          ]
        },
        {
          "output_type": "stream",
          "name": "stdout",
          "text": [
            "Epoch: 4/19 Loss: 0.8834015727043152\n"
          ]
        },
        {
          "output_type": "stream",
          "name": "stderr",
          "text": [
            "Evaluating: 100%|██████████| 800/800 [00:09<00:00, 84.83it/s]\n"
          ]
        },
        {
          "output_type": "stream",
          "name": "stdout",
          "text": [
            "Accuracy: 0.787825\n"
          ]
        },
        {
          "output_type": "stream",
          "name": "stderr",
          "text": [
            "Training: 100%|██████████| 800/800 [00:13<00:00, 60.04it/s]\n"
          ]
        },
        {
          "output_type": "stream",
          "name": "stdout",
          "text": [
            "Epoch: 5/19 Loss: 0.6022968292236328\n"
          ]
        },
        {
          "output_type": "stream",
          "name": "stderr",
          "text": [
            "Evaluating: 100%|██████████| 800/800 [00:09<00:00, 85.78it/s]\n"
          ]
        },
        {
          "output_type": "stream",
          "name": "stdout",
          "text": [
            "Accuracy: 0.804125\n"
          ]
        },
        {
          "output_type": "stream",
          "name": "stderr",
          "text": [
            "Training: 100%|██████████| 800/800 [00:13<00:00, 60.73it/s]\n"
          ]
        },
        {
          "output_type": "stream",
          "name": "stdout",
          "text": [
            "Epoch: 6/19 Loss: 0.4120749235153198\n"
          ]
        },
        {
          "output_type": "stream",
          "name": "stderr",
          "text": [
            "Evaluating: 100%|██████████| 800/800 [00:09<00:00, 80.98it/s]\n"
          ]
        },
        {
          "output_type": "stream",
          "name": "stdout",
          "text": [
            "Accuracy: 0.81415\n"
          ]
        },
        {
          "output_type": "stream",
          "name": "stderr",
          "text": [
            "Training: 100%|██████████| 800/800 [00:13<00:00, 61.04it/s]\n"
          ]
        },
        {
          "output_type": "stream",
          "name": "stdout",
          "text": [
            "Epoch: 7/19 Loss: 0.6274834871292114\n"
          ]
        },
        {
          "output_type": "stream",
          "name": "stderr",
          "text": [
            "Evaluating: 100%|██████████| 800/800 [00:09<00:00, 86.62it/s]\n"
          ]
        },
        {
          "output_type": "stream",
          "name": "stdout",
          "text": [
            "Accuracy: 0.838425\n"
          ]
        },
        {
          "output_type": "stream",
          "name": "stderr",
          "text": [
            "Training: 100%|██████████| 800/800 [00:13<00:00, 59.51it/s]\n"
          ]
        },
        {
          "output_type": "stream",
          "name": "stdout",
          "text": [
            "Epoch: 8/19 Loss: 0.4955787658691406\n"
          ]
        },
        {
          "output_type": "stream",
          "name": "stderr",
          "text": [
            "Evaluating: 100%|██████████| 800/800 [00:09<00:00, 85.49it/s]\n"
          ]
        },
        {
          "output_type": "stream",
          "name": "stdout",
          "text": [
            "Accuracy: 0.85855\n"
          ]
        },
        {
          "output_type": "stream",
          "name": "stderr",
          "text": [
            "Training: 100%|██████████| 800/800 [00:13<00:00, 59.25it/s]\n"
          ]
        },
        {
          "output_type": "stream",
          "name": "stdout",
          "text": [
            "Epoch: 9/19 Loss: 0.5930039882659912\n"
          ]
        },
        {
          "output_type": "stream",
          "name": "stderr",
          "text": [
            "Evaluating: 100%|██████████| 800/800 [00:09<00:00, 85.61it/s]\n"
          ]
        },
        {
          "output_type": "stream",
          "name": "stdout",
          "text": [
            "Accuracy: 0.846075\n"
          ]
        },
        {
          "output_type": "stream",
          "name": "stderr",
          "text": [
            "Training: 100%|██████████| 800/800 [00:13<00:00, 60.41it/s]\n"
          ]
        },
        {
          "output_type": "stream",
          "name": "stdout",
          "text": [
            "Epoch: 10/19 Loss: 0.38371437788009644\n"
          ]
        },
        {
          "output_type": "stream",
          "name": "stderr",
          "text": [
            "Evaluating: 100%|██████████| 800/800 [00:09<00:00, 82.89it/s]\n"
          ]
        },
        {
          "output_type": "stream",
          "name": "stdout",
          "text": [
            "Accuracy: 0.843675\n"
          ]
        },
        {
          "output_type": "stream",
          "name": "stderr",
          "text": [
            "Training: 100%|██████████| 800/800 [00:13<00:00, 61.50it/s]\n"
          ]
        },
        {
          "output_type": "stream",
          "name": "stdout",
          "text": [
            "Epoch: 11/19 Loss: 0.4184989631175995\n"
          ]
        },
        {
          "output_type": "stream",
          "name": "stderr",
          "text": [
            "Evaluating: 100%|██████████| 800/800 [00:09<00:00, 85.13it/s]\n"
          ]
        },
        {
          "output_type": "stream",
          "name": "stdout",
          "text": [
            "Accuracy: 0.865325\n"
          ]
        },
        {
          "output_type": "stream",
          "name": "stderr",
          "text": [
            "Training: 100%|██████████| 800/800 [00:13<00:00, 60.27it/s]\n"
          ]
        },
        {
          "output_type": "stream",
          "name": "stdout",
          "text": [
            "Epoch: 12/19 Loss: 0.31499138474464417\n"
          ]
        },
        {
          "output_type": "stream",
          "name": "stderr",
          "text": [
            "Evaluating: 100%|██████████| 800/800 [00:09<00:00, 86.80it/s]\n"
          ]
        },
        {
          "output_type": "stream",
          "name": "stdout",
          "text": [
            "Accuracy: 0.894075\n"
          ]
        },
        {
          "output_type": "stream",
          "name": "stderr",
          "text": [
            "Training: 100%|██████████| 800/800 [00:13<00:00, 61.26it/s]\n"
          ]
        },
        {
          "output_type": "stream",
          "name": "stdout",
          "text": [
            "Epoch: 13/19 Loss: 0.3215489089488983\n"
          ]
        },
        {
          "output_type": "stream",
          "name": "stderr",
          "text": [
            "Evaluating: 100%|██████████| 800/800 [00:09<00:00, 86.81it/s]\n"
          ]
        },
        {
          "output_type": "stream",
          "name": "stdout",
          "text": [
            "Accuracy: 0.903\n"
          ]
        },
        {
          "output_type": "stream",
          "name": "stderr",
          "text": [
            "Training: 100%|██████████| 800/800 [00:13<00:00, 61.31it/s]\n"
          ]
        },
        {
          "output_type": "stream",
          "name": "stdout",
          "text": [
            "Epoch: 14/19 Loss: 0.2563732862472534\n"
          ]
        },
        {
          "output_type": "stream",
          "name": "stderr",
          "text": [
            "Evaluating: 100%|██████████| 800/800 [00:09<00:00, 86.40it/s]\n"
          ]
        },
        {
          "output_type": "stream",
          "name": "stdout",
          "text": [
            "Accuracy: 0.9021\n"
          ]
        },
        {
          "output_type": "stream",
          "name": "stderr",
          "text": [
            "Training: 100%|██████████| 800/800 [00:13<00:00, 61.41it/s]\n"
          ]
        },
        {
          "output_type": "stream",
          "name": "stdout",
          "text": [
            "Epoch: 15/19 Loss: 0.29156139492988586\n"
          ]
        },
        {
          "output_type": "stream",
          "name": "stderr",
          "text": [
            "Evaluating: 100%|██████████| 800/800 [00:08<00:00, 89.61it/s]\n"
          ]
        },
        {
          "output_type": "stream",
          "name": "stdout",
          "text": [
            "Accuracy: 0.8913\n"
          ]
        },
        {
          "output_type": "stream",
          "name": "stderr",
          "text": [
            "Training: 100%|██████████| 800/800 [00:12<00:00, 61.61it/s]\n"
          ]
        },
        {
          "output_type": "stream",
          "name": "stdout",
          "text": [
            "Epoch: 16/19 Loss: 0.39463165402412415\n"
          ]
        },
        {
          "output_type": "stream",
          "name": "stderr",
          "text": [
            "Evaluating: 100%|██████████| 800/800 [00:09<00:00, 87.33it/s]\n"
          ]
        },
        {
          "output_type": "stream",
          "name": "stdout",
          "text": [
            "Accuracy: 0.91075\n"
          ]
        },
        {
          "output_type": "stream",
          "name": "stderr",
          "text": [
            "Training: 100%|██████████| 800/800 [00:12<00:00, 62.52it/s]\n"
          ]
        },
        {
          "output_type": "stream",
          "name": "stdout",
          "text": [
            "Epoch: 17/19 Loss: 0.4126007556915283\n"
          ]
        },
        {
          "output_type": "stream",
          "name": "stderr",
          "text": [
            "Evaluating: 100%|██████████| 800/800 [00:09<00:00, 87.59it/s]\n"
          ]
        },
        {
          "output_type": "stream",
          "name": "stdout",
          "text": [
            "Accuracy: 0.9105\n"
          ]
        },
        {
          "output_type": "stream",
          "name": "stderr",
          "text": [
            "Training: 100%|██████████| 800/800 [00:13<00:00, 60.77it/s]\n"
          ]
        },
        {
          "output_type": "stream",
          "name": "stdout",
          "text": [
            "Epoch: 18/19 Loss: 0.28190839290618896\n"
          ]
        },
        {
          "output_type": "stream",
          "name": "stderr",
          "text": [
            "Evaluating: 100%|██████████| 800/800 [00:09<00:00, 83.59it/s]\n"
          ]
        },
        {
          "output_type": "stream",
          "name": "stdout",
          "text": [
            "Accuracy: 0.9399\n"
          ]
        },
        {
          "output_type": "stream",
          "name": "stderr",
          "text": [
            "Training: 100%|██████████| 800/800 [00:13<00:00, 60.02it/s]\n"
          ]
        },
        {
          "output_type": "stream",
          "name": "stdout",
          "text": [
            "Epoch: 19/19 Loss: 0.22841453552246094\n"
          ]
        },
        {
          "output_type": "stream",
          "name": "stderr",
          "text": [
            "Evaluating: 100%|██████████| 800/800 [00:09<00:00, 84.66it/s]"
          ]
        },
        {
          "output_type": "stream",
          "name": "stdout",
          "text": [
            "Accuracy: 0.93\n"
          ]
        },
        {
          "output_type": "stream",
          "name": "stderr",
          "text": [
            "\n"
          ]
        }
      ]
    },
    {
      "cell_type": "markdown",
      "metadata": {
        "id": "rLL-GQlKQT2Y"
      },
      "source": [
        "### Visualização usual da perda, somente no final de cada minibatch"
      ]
    },
    {
      "cell_type": "code",
      "metadata": {
        "ExecuteTime": {
          "end_time": "2018-08-20T21:03:55.246851Z",
          "start_time": "2018-08-20T21:03:54.994428Z"
        },
        "id": "w38EtNxhQT2Z",
        "colab": {
          "base_uri": "https://localhost:8080/",
          "height": 297
        },
        "outputId": "9409f11c-58eb-43af-aba8-5deeda28f090"
      },
      "source": [
        "n_batches_train = len(train_dataloader)\n",
        "plt.plot(epochs[::n_batches_train], loss_history[::n_batches_train])\n",
        "plt.xlabel('época')"
      ],
      "execution_count": 16,
      "outputs": [
        {
          "output_type": "execute_result",
          "data": {
            "text/plain": [
              "Text(0.5, 0, 'época')"
            ]
          },
          "metadata": {},
          "execution_count": 16
        },
        {
          "output_type": "display_data",
          "data": {
            "text/plain": [
              "<Figure size 432x288 with 1 Axes>"
            ],
            "image/png": "[encoded data removed]"
          },
          "metadata": {
            "needs_background": "light"
          }
        }
      ]
    },
    {
      "cell_type": "markdown",
      "source": [
        "## Avaliação final no dataset de testes"
      ],
      "metadata": {
        "id": "cc91_BpixG9p"
      }
    },
    {
      "cell_type": "code",
      "source": [
        "evaluation(model=model, loader=test_dataloader)"
      ],
      "metadata": {
        "id": "OP75jlpYxMsC",
        "colab": {
          "base_uri": "https://localhost:8080/"
        },
        "outputId": "26cce71e-3ab0-4290-cb8d-8a2d1258090b"
      },
      "execution_count": 17,
      "outputs": [
        {
          "output_type": "stream",
          "name": "stderr",
          "text": [
            "Evaluating: 100%|██████████| 800/800 [00:09<00:00, 87.11it/s]"
          ]
        },
        {
          "output_type": "stream",
          "name": "stdout",
          "text": [
            "Accuracy: 0.93\n"
          ]
        },
        {
          "output_type": "stream",
          "name": "stderr",
          "text": [
            "\n"
          ]
        }
      ]
    },
    {
      "cell_type": "markdown",
      "source": [
        "# Bonus Opcional"
      ],
      "metadata": {
        "id": "tzelXYMkN7Gc"
      }
    },
    {
      "cell_type": "markdown",
      "source": [
        "## Implementando o Dropout"
      ],
      "metadata": {
        "id": "dfU_v7aPfq40"
      }
    },
    {
      "cell_type": "code",
      "source": [
        "from torch.nn import Module\n",
        "class MyDropout(Module):\n",
        "    def __init__(self, p: float):\n",
        "        # Escreva seu código aqui.\n",
        "        if p <= 0.0 or p >= 1.0:\n",
        "            raise ValueError(\"dropout probability has to be between 0 and 1, but got {}\".format(p))\n",
        "        self.p = p\n",
        "\n",
        "    def forward(self, x: Tensor, training: bool):\n",
        "        # Escreva seu código aqui.\n",
        "        if training:\n",
        "            bias = torch.ones(x.shape) * p\n",
        "            dropout = torch.rand(x.shape) > bias\n",
        "            out = x * dropout\n",
        "            #out /= (1 - self.p)\n",
        "        else:\n",
        "            out = x\n",
        "        return out\n",
        "\n",
        "    def __call__(self, x, training:bool):\n",
        "      return self.forward(x, training)        "
      ],
      "metadata": {
        "id": "wRtpLJSFfsf8"
      },
      "execution_count": 112,
      "outputs": []
    },
    {
      "cell_type": "markdown",
      "source": [
        "## Mostre que sua implementação traz resultados semelhantes à implementação do pytorch"
      ],
      "metadata": {
        "id": "ROizI33sqE79"
      }
    },
    {
      "cell_type": "code",
      "source": [
        "import math\n",
        "\n",
        "p = 0.5\n",
        "dropout = MyDropout(p=p)\n",
        "\n",
        "x = torch.rand(16, 3, 32, 32)\n",
        "\n",
        "out = dropout(x, training=True)\n",
        "out_pt = torch.nn.functional.dropout(x, p=p, training=True)\n",
        "\n",
        "mean_zeros = (out == 0).sum() / out.numel()\n",
        "mean_zeros_pt = (out_pt == 0).sum() / out_pt.numel()\n",
        "\n",
        "print(f'mean zeros: {mean_zeros}')\n",
        "print(f'mean zeros pytorch: {mean_zeros_pt}')\n",
        "\n",
        "assert math.isclose(mean_zeros, mean_zeros_pt, abs_tol=1e-2)\n",
        "\n",
        "out = dropout(x, training=False)\n",
        "target_out = torch.nn.functional.dropout(x, p=p, training=False, inplace=False)\n",
        "assert torch.allclose(out, target_out, atol=1e-6)"
      ],
      "metadata": {
        "id": "i1TuxWbkqMJc",
        "colab": {
          "base_uri": "https://localhost:8080/"
        },
        "outputId": "856420a8-c571-4c6f-a2f2-d6f618c0e87c"
      },
      "execution_count": 113,
      "outputs": [
        {
          "output_type": "stream",
          "name": "stdout",
          "text": [
            "mean zeros: 0.4972940981388092\n",
            "mean zeros pytorch: 0.49688720703125\n"
          ]
        }
      ]
    },
    {
      "cell_type": "code",
      "source": [
        ""
      ],
      "metadata": {
        "id": "6ZyKQSGIwrVs"
      },
      "execution_count": 95,
      "outputs": []
    }
  ]
}